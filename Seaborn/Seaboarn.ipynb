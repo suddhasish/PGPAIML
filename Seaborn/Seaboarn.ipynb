{
 "cells": [
  {
   "cell_type": "code",
   "execution_count": null,
   "metadata": {},
   "outputs": [],
   "source": [
    "import warnings \n",
    "warnings.filterwarnings(\"ignore\")\n",
    "\n",
    "inp1.ratings.plot.hist()\n",
    "import seaborn as sns\n",
    "sns.distplot(inp1.ratings)"
   ]
  },
  {
   "cell_type": "code",
   "execution_count": null,
   "metadata": {},
   "outputs": [],
   "source": [
    "Regplots\n",
    "\n",
    " \n",
    "\n",
    "When you are introduced to the seaborn library, it was mentioned that seaborn provides automatic estimation and plotting for regression setups for different kind of variables. Now regression would be dealt with in detail in future modules.\n",
    "However, it's good to know how seaborn uses a modified version of the scatter plots, also known as regplots to achieve this for now. Let's hear from Rahim as he explains this feature."
   ]
  },
  {
   "cell_type": "code",
   "execution_count": null,
   "metadata": {},
   "outputs": [],
   "source": [
    "\"\"\" Application in Machine Learning\n",
    "Pairplots instantly give you the relationship between one numeric variable with the rest of the numeric variables.\n",
    " This is pretty useful in identifying relationships between the target variable and the rest of the features.\n",
    "For example, say you want to predict how your company’s sales are affected by budgets allocated to three different types of advertisement channels - TV, Newspaper and Radio. \n",
    "In order to choose, you need to create a pair plot containing profits and the three different budgets as the variables.\n",
    "Let's say the scatterplots of profits vs the three variables that you obtained from the pair plot are as follows (Click on the image to magnify it): \"\"\""
   ]
  },
  {
   "cell_type": "code",
   "execution_count": null,
   "metadata": {},
   "outputs": [],
   "source": [
    "\"\"\" Additional Notes:\n",
    "\n",
    "Heat maps are predominantly used in machine learning problems to visualise a  Correlation Matrix, a grid that shows the correlation between any two quantitative variables.\n",
    "As mentioned in the additional notes of previous segments, understanding the correlation between variables is crucial for building and evaluating any ML model. \n",
    "You’ll learn more about them in the upcoming modules. \"\"\""
   ]
  }
 ],
 "metadata": {
  "language_info": {
   "name": "python"
  }
 },
 "nbformat": 4,
 "nbformat_minor": 2
}
