{
 "cells": [
  {
   "cell_type": "markdown",
   "id": "de1c1f0f",
   "metadata": {},
   "source": [
    "A/B testing, also known as split testing, is a method used to compare two versions of a web page, app feature, email, or other marketing asset to determine which one performs better. It involves dividing your audience into two groups:\n",
    "\n",
    "- <b>Group A (Control Group)<b>: This group sees the original version.\n",
    "- <b>Group B (Treatment Group)<b>: This group sees the modified version."
   ]
  },
  {
   "cell_type": "markdown",
   "id": "bbc6ce59",
   "metadata": {
    "id": "bbc6ce59"
   },
   "source": [
    "# Two sample mean testing (unpaired) -1"
   ]
  },
  {
   "cell_type": "markdown",
   "id": "2509c166",
   "metadata": {
    "id": "2509c166"
   },
   "source": [
    "A custom exhaust manufacturing company want to compare the fuel economy after upgrading motorcycles from stock to custom exhaust. The test were run for 2 different batches i.e. BS4 and BS6 as custom exhaust is compatible with both BS4 and BS6 motorcycles. Both the batches have all different models of bikes as changes has to be compared across all models variants with old BS4 and newer BS6. To track if the custom exhaust affects the fuel economy of the BS4 and BS6 motorcycles differently, you decided to conduct a few hypothesis tests.\n",
    "\n",
    "- Dataset to use: `unpaired-exhaust.csv`"
   ]
  },
  {
   "cell_type": "markdown",
   "id": "95d907d5",
   "metadata": {
    "id": "95d907d5"
   },
   "source": [
    "### Importing the necessary libraries"
   ]
  },
  {
   "cell_type": "code",
   "execution_count": 1,
   "id": "68b0c5b9",
   "metadata": {
    "executionInfo": {
     "elapsed": 1069,
     "status": "ok",
     "timestamp": 1705078893996,
     "user": {
      "displayName": "harish kumar",
      "userId": "06127230580454505577"
     },
     "user_tz": -330
    },
    "id": "68b0c5b9"
   },
   "outputs": [],
   "source": [
    "import pandas as pd\n",
    "import scipy.stats as ss"
   ]
  },
  {
   "cell_type": "code",
   "execution_count": 3,
   "id": "2fae2c59",
   "metadata": {
    "executionInfo": {
     "elapsed": 632,
     "status": "ok",
     "timestamp": 1705078911033,
     "user": {
      "displayName": "harish kumar",
      "userId": "06127230580454505577"
     },
     "user_tz": -330
    },
    "id": "2fae2c59"
   },
   "outputs": [],
   "source": [
    "## Load the dataset\n",
    "twosampup_df = pd.read_csv(\"unpaired-exhaust.csv\")"
   ]
  },
  {
   "cell_type": "code",
   "execution_count": 4,
   "id": "1354a247",
   "metadata": {
    "colab": {
     "base_uri": "https://localhost:8080/",
     "height": 206
    },
    "collapsed": true,
    "executionInfo": {
     "elapsed": 501,
     "status": "ok",
     "timestamp": 1705078916922,
     "user": {
      "displayName": "harish kumar",
      "userId": "06127230580454505577"
     },
     "user_tz": -330
    },
    "id": "1354a247",
    "outputId": "b7301a16-a30f-4c14-86f5-4d245c0b7841"
   },
   "outputs": [
    {
     "data": {
      "text/html": [
       "<div>\n",
       "<style scoped>\n",
       "    .dataframe tbody tr th:only-of-type {\n",
       "        vertical-align: middle;\n",
       "    }\n",
       "\n",
       "    .dataframe tbody tr th {\n",
       "        vertical-align: top;\n",
       "    }\n",
       "\n",
       "    .dataframe thead th {\n",
       "        text-align: right;\n",
       "    }\n",
       "</style>\n",
       "<table border=\"1\" class=\"dataframe\">\n",
       "  <thead>\n",
       "    <tr style=\"text-align: right;\">\n",
       "      <th></th>\n",
       "      <th>Bike ID</th>\n",
       "      <th>Fuel Economy</th>\n",
       "      <th>Batch</th>\n",
       "    </tr>\n",
       "  </thead>\n",
       "  <tbody>\n",
       "    <tr>\n",
       "      <th>0</th>\n",
       "      <td>A1</td>\n",
       "      <td>43</td>\n",
       "      <td>BS4</td>\n",
       "    </tr>\n",
       "    <tr>\n",
       "      <th>1</th>\n",
       "      <td>A2</td>\n",
       "      <td>52</td>\n",
       "      <td>BS4</td>\n",
       "    </tr>\n",
       "    <tr>\n",
       "      <th>2</th>\n",
       "      <td>A3</td>\n",
       "      <td>58</td>\n",
       "      <td>BS4</td>\n",
       "    </tr>\n",
       "    <tr>\n",
       "      <th>3</th>\n",
       "      <td>A4</td>\n",
       "      <td>44</td>\n",
       "      <td>BS4</td>\n",
       "    </tr>\n",
       "    <tr>\n",
       "      <th>4</th>\n",
       "      <td>A5</td>\n",
       "      <td>48</td>\n",
       "      <td>BS4</td>\n",
       "    </tr>\n",
       "  </tbody>\n",
       "</table>\n",
       "</div>"
      ],
      "text/plain": [
       "  Bike ID  Fuel Economy Batch\n",
       "0      A1            43   BS4\n",
       "1      A2            52   BS4\n",
       "2      A3            58   BS4\n",
       "3      A4            44   BS4\n",
       "4      A5            48   BS4"
      ]
     },
     "execution_count": 4,
     "metadata": {},
     "output_type": "execute_result"
    }
   ],
   "source": [
    "## Check the data for BS4\n",
    "twosampup_df.head()"
   ]
  },
  {
   "cell_type": "code",
   "execution_count": 5,
   "id": "HzO_DDGdoCDI",
   "metadata": {
    "colab": {
     "base_uri": "https://localhost:8080/"
    },
    "executionInfo": {
     "elapsed": 426,
     "status": "ok",
     "timestamp": 1705078973460,
     "user": {
      "displayName": "harish kumar",
      "userId": "06127230580454505577"
     },
     "user_tz": -330
    },
    "id": "HzO_DDGdoCDI",
    "outputId": "c3e66086-8bb5-44f0-d19f-3771c351b760"
   },
   "outputs": [
    {
     "data": {
      "text/plain": [
       "(48, 3)"
      ]
     },
     "execution_count": 5,
     "metadata": {},
     "output_type": "execute_result"
    }
   ],
   "source": [
    "twosampup_df.shape"
   ]
  },
  {
   "cell_type": "code",
   "execution_count": 6,
   "id": "e1b1f98d",
   "metadata": {
    "colab": {
     "base_uri": "https://localhost:8080/",
     "height": 206
    },
    "collapsed": true,
    "executionInfo": {
     "elapsed": 468,
     "status": "ok",
     "timestamp": 1705079006898,
     "user": {
      "displayName": "harish kumar",
      "userId": "06127230580454505577"
     },
     "user_tz": -330
    },
    "id": "e1b1f98d",
    "outputId": "140201a6-900c-4967-8262-a4d93b100ef2"
   },
   "outputs": [
    {
     "data": {
      "text/html": [
       "<div>\n",
       "<style scoped>\n",
       "    .dataframe tbody tr th:only-of-type {\n",
       "        vertical-align: middle;\n",
       "    }\n",
       "\n",
       "    .dataframe tbody tr th {\n",
       "        vertical-align: top;\n",
       "    }\n",
       "\n",
       "    .dataframe thead th {\n",
       "        text-align: right;\n",
       "    }\n",
       "</style>\n",
       "<table border=\"1\" class=\"dataframe\">\n",
       "  <thead>\n",
       "    <tr style=\"text-align: right;\">\n",
       "      <th></th>\n",
       "      <th>Bike ID</th>\n",
       "      <th>Fuel Economy</th>\n",
       "      <th>Batch</th>\n",
       "    </tr>\n",
       "  </thead>\n",
       "  <tbody>\n",
       "    <tr>\n",
       "      <th>43</th>\n",
       "      <td>B20</td>\n",
       "      <td>45</td>\n",
       "      <td>BS6</td>\n",
       "    </tr>\n",
       "    <tr>\n",
       "      <th>44</th>\n",
       "      <td>B21</td>\n",
       "      <td>54</td>\n",
       "      <td>BS6</td>\n",
       "    </tr>\n",
       "    <tr>\n",
       "      <th>45</th>\n",
       "      <td>B22</td>\n",
       "      <td>48</td>\n",
       "      <td>BS6</td>\n",
       "    </tr>\n",
       "    <tr>\n",
       "      <th>46</th>\n",
       "      <td>B23</td>\n",
       "      <td>62</td>\n",
       "      <td>BS6</td>\n",
       "    </tr>\n",
       "    <tr>\n",
       "      <th>47</th>\n",
       "      <td>B24</td>\n",
       "      <td>40</td>\n",
       "      <td>BS6</td>\n",
       "    </tr>\n",
       "  </tbody>\n",
       "</table>\n",
       "</div>"
      ],
      "text/plain": [
       "   Bike ID  Fuel Economy Batch\n",
       "43     B20            45   BS6\n",
       "44     B21            54   BS6\n",
       "45     B22            48   BS6\n",
       "46     B23            62   BS6\n",
       "47     B24            40   BS6"
      ]
     },
     "execution_count": 6,
     "metadata": {},
     "output_type": "execute_result"
    }
   ],
   "source": [
    "## Check the data for BS6\n",
    "twosampup_df.tail()"
   ]
  },
  {
   "cell_type": "markdown",
   "id": "69d687d9",
   "metadata": {
    "id": "69d687d9"
   },
   "source": [
    "### Subset the scores of each class to separate series"
   ]
  },
  {
   "cell_type": "code",
   "execution_count": 7,
   "id": "e2ffa1f1",
   "metadata": {
    "colab": {
     "base_uri": "https://localhost:8080/"
    },
    "executionInfo": {
     "elapsed": 638,
     "status": "ok",
     "timestamp": 1705079055448,
     "user": {
      "displayName": "harish kumar",
      "userId": "06127230580454505577"
     },
     "user_tz": -330
    },
    "id": "e2ffa1f1",
    "outputId": "07ce4bd2-99a4-4239-ed7e-35fb9602bd68"
   },
   "outputs": [
    {
     "data": {
      "text/plain": [
       "52.916666666666664"
      ]
     },
     "execution_count": 7,
     "metadata": {},
     "output_type": "execute_result"
    }
   ],
   "source": [
    "bs4 = twosampup_df[twosampup_df['Batch']==\"BS4\"]['Fuel Economy']\n",
    "bs4.mean()"
   ]
  },
  {
   "cell_type": "code",
   "execution_count": 8,
   "id": "4e10943a",
   "metadata": {
    "colab": {
     "base_uri": "https://localhost:8080/"
    },
    "executionInfo": {
     "elapsed": 417,
     "status": "ok",
     "timestamp": 1705079067112,
     "user": {
      "displayName": "harish kumar",
      "userId": "06127230580454505577"
     },
     "user_tz": -330
    },
    "id": "4e10943a",
    "outputId": "ebb182ea-04fa-48dd-9782-b50e84b55df3"
   },
   "outputs": [
    {
     "data": {
      "text/plain": [
       "51.375"
      ]
     },
     "execution_count": 8,
     "metadata": {},
     "output_type": "execute_result"
    }
   ],
   "source": [
    "bs6 = twosampup_df[twosampup_df['Batch']==\"BS6\"]['Fuel Economy']\n",
    "bs6.mean()"
   ]
  },
  {
   "cell_type": "markdown",
   "id": "3c5f4f30",
   "metadata": {},
   "source": [
    "- H0:mean(bs4)=mean(bs6)\n",
    "- H1:mean(bs4)!=mean(bs6)"
   ]
  },
  {
   "cell_type": "markdown",
   "id": "42c4f604",
   "metadata": {
    "id": "42c4f604"
   },
   "source": [
    "There's a slight difference in the fuel economy. BS6 vehicles have got lesser fuel economy than that of BS4 with custom exhaust"
   ]
  },
  {
   "cell_type": "code",
   "execution_count": 9,
   "id": "103b854a",
   "metadata": {
    "colab": {
     "base_uri": "https://localhost:8080/"
    },
    "executionInfo": {
     "elapsed": 505,
     "status": "ok",
     "timestamp": 1705079297304,
     "user": {
      "displayName": "harish kumar",
      "userId": "06127230580454505577"
     },
     "user_tz": -330
    },
    "id": "103b854a",
    "outputId": "f227d47d-d306-44ca-c317-1e6a2275cff2"
   },
   "outputs": [
    {
     "data": {
      "text/plain": [
       "Ttest_indResult(statistic=0.7087914510636509, pvalue=0.482030754068267)"
      ]
     },
     "execution_count": 9,
     "metadata": {},
     "output_type": "execute_result"
    }
   ],
   "source": [
    "ss.ttest_ind(bs4,bs6, alternative = \"two-sided\")"
   ]
  },
  {
   "cell_type": "markdown",
   "id": "e35c4e54",
   "metadata": {
    "id": "e35c4e54"
   },
   "source": [
    "**Inferences**\n",
    "- As you can see the p-value (~0.48) is much higher than 0.05, and therefore the results are ***not*** statistically significant.\n",
    "- Hence, you can say that there's NO evidence to suggest that there is a difference in the Fuel Economy between the motorcycles of BS4 and BS6 class."
   ]
  },
  {
   "cell_type": "markdown",
   "id": "5bc4cad5",
   "metadata": {
    "id": "bbc6ce59"
   },
   "source": [
    "# Two sample mean testing (unpaired) -2"
   ]
  },
  {
   "cell_type": "markdown",
   "id": "25fcdf61",
   "metadata": {
    "id": "25fcdf61"
   },
   "source": [
    "A Bolt & Nut manufacturing company want to find out if two production lines produce M5 nuts of the same weight. To track if their is any difference in weights of the M5 nuts manufactured in both lines, you decided to conduct a few hypothesis tests.\n",
    "\n",
    "- Dataset to use: `unpaired-nuts.csv`"
   ]
  },
  {
   "cell_type": "code",
   "execution_count": 11,
   "id": "0c7d07fc",
   "metadata": {
    "executionInfo": {
     "elapsed": 403,
     "status": "ok",
     "timestamp": 1705079780284,
     "user": {
      "displayName": "harish kumar",
      "userId": "06127230580454505577"
     },
     "user_tz": -330
    },
    "id": "0c7d07fc"
   },
   "outputs": [],
   "source": [
    "## Load the dataset\n",
    "twosampup_df = pd.read_csv(\"unpaired-nuts.csv\")"
   ]
  },
  {
   "cell_type": "code",
   "execution_count": 12,
   "id": "ac9a0ec1",
   "metadata": {
    "collapsed": true
   },
   "outputs": [
    {
     "data": {
      "text/html": [
       "<div>\n",
       "<style scoped>\n",
       "    .dataframe tbody tr th:only-of-type {\n",
       "        vertical-align: middle;\n",
       "    }\n",
       "\n",
       "    .dataframe tbody tr th {\n",
       "        vertical-align: top;\n",
       "    }\n",
       "\n",
       "    .dataframe thead th {\n",
       "        text-align: right;\n",
       "    }\n",
       "</style>\n",
       "<table border=\"1\" class=\"dataframe\">\n",
       "  <thead>\n",
       "    <tr style=\"text-align: right;\">\n",
       "      <th></th>\n",
       "      <th>Serial No</th>\n",
       "      <th>weight in grams</th>\n",
       "      <th>Production line</th>\n",
       "    </tr>\n",
       "  </thead>\n",
       "  <tbody>\n",
       "    <tr>\n",
       "      <th>0</th>\n",
       "      <td>A1</td>\n",
       "      <td>2.18</td>\n",
       "      <td>A</td>\n",
       "    </tr>\n",
       "    <tr>\n",
       "      <th>1</th>\n",
       "      <td>A2</td>\n",
       "      <td>2.17</td>\n",
       "      <td>A</td>\n",
       "    </tr>\n",
       "    <tr>\n",
       "      <th>2</th>\n",
       "      <td>A3</td>\n",
       "      <td>2.14</td>\n",
       "      <td>A</td>\n",
       "    </tr>\n",
       "    <tr>\n",
       "      <th>3</th>\n",
       "      <td>A4</td>\n",
       "      <td>2.18</td>\n",
       "      <td>A</td>\n",
       "    </tr>\n",
       "    <tr>\n",
       "      <th>4</th>\n",
       "      <td>A5</td>\n",
       "      <td>2.15</td>\n",
       "      <td>A</td>\n",
       "    </tr>\n",
       "  </tbody>\n",
       "</table>\n",
       "</div>"
      ],
      "text/plain": [
       "  Serial No  weight in grams Production line\n",
       "0        A1             2.18               A\n",
       "1        A2             2.17               A\n",
       "2        A3             2.14               A\n",
       "3        A4             2.18               A\n",
       "4        A5             2.15               A"
      ]
     },
     "execution_count": 12,
     "metadata": {},
     "output_type": "execute_result"
    }
   ],
   "source": [
    "twosampup_df.head()"
   ]
  },
  {
   "cell_type": "code",
   "execution_count": 13,
   "id": "1e855ba7",
   "metadata": {
    "collapsed": true
   },
   "outputs": [
    {
     "data": {
      "text/html": [
       "<div>\n",
       "<style scoped>\n",
       "    .dataframe tbody tr th:only-of-type {\n",
       "        vertical-align: middle;\n",
       "    }\n",
       "\n",
       "    .dataframe tbody tr th {\n",
       "        vertical-align: top;\n",
       "    }\n",
       "\n",
       "    .dataframe thead th {\n",
       "        text-align: right;\n",
       "    }\n",
       "</style>\n",
       "<table border=\"1\" class=\"dataframe\">\n",
       "  <thead>\n",
       "    <tr style=\"text-align: right;\">\n",
       "      <th></th>\n",
       "      <th>Serial No</th>\n",
       "      <th>weight in grams</th>\n",
       "      <th>Production line</th>\n",
       "    </tr>\n",
       "  </thead>\n",
       "  <tbody>\n",
       "    <tr>\n",
       "      <th>43</th>\n",
       "      <td>B20</td>\n",
       "      <td>2.11</td>\n",
       "      <td>B</td>\n",
       "    </tr>\n",
       "    <tr>\n",
       "      <th>44</th>\n",
       "      <td>B21</td>\n",
       "      <td>2.32</td>\n",
       "      <td>B</td>\n",
       "    </tr>\n",
       "    <tr>\n",
       "      <th>45</th>\n",
       "      <td>B22</td>\n",
       "      <td>2.22</td>\n",
       "      <td>B</td>\n",
       "    </tr>\n",
       "    <tr>\n",
       "      <th>46</th>\n",
       "      <td>B23</td>\n",
       "      <td>2.35</td>\n",
       "      <td>B</td>\n",
       "    </tr>\n",
       "    <tr>\n",
       "      <th>47</th>\n",
       "      <td>B24</td>\n",
       "      <td>2.29</td>\n",
       "      <td>B</td>\n",
       "    </tr>\n",
       "  </tbody>\n",
       "</table>\n",
       "</div>"
      ],
      "text/plain": [
       "   Serial No  weight in grams Production line\n",
       "43       B20             2.11               B\n",
       "44       B21             2.32               B\n",
       "45       B22             2.22               B\n",
       "46       B23             2.35               B\n",
       "47       B24             2.29               B"
      ]
     },
     "execution_count": 13,
     "metadata": {},
     "output_type": "execute_result"
    }
   ],
   "source": [
    "twosampup_df.tail()"
   ]
  },
  {
   "cell_type": "markdown",
   "id": "e347d9ad",
   "metadata": {
    "id": "e347d9ad"
   },
   "source": [
    "### Subset the scores of each class to separate series"
   ]
  },
  {
   "cell_type": "code",
   "execution_count": 14,
   "id": "85e38483",
   "metadata": {
    "colab": {
     "base_uri": "https://localhost:8080/"
    },
    "executionInfo": {
     "elapsed": 438,
     "status": "ok",
     "timestamp": 1705079887278,
     "user": {
      "displayName": "harish kumar",
      "userId": "06127230580454505577"
     },
     "user_tz": -330
    },
    "id": "85e38483",
    "outputId": "145b3c0c-1c9b-47d8-c2d1-92cbc967a319"
   },
   "outputs": [
    {
     "data": {
      "text/plain": [
       "2.1808333333333336"
      ]
     },
     "execution_count": 14,
     "metadata": {},
     "output_type": "execute_result"
    }
   ],
   "source": [
    "line_A = twosampup_df[twosampup_df['Production line']==\"A\"]['weight in grams']\n",
    "line_A.mean()"
   ]
  },
  {
   "cell_type": "code",
   "execution_count": 15,
   "id": "fe9086f7",
   "metadata": {
    "colab": {
     "base_uri": "https://localhost:8080/"
    },
    "executionInfo": {
     "elapsed": 380,
     "status": "ok",
     "timestamp": 1705079908162,
     "user": {
      "displayName": "harish kumar",
      "userId": "06127230580454505577"
     },
     "user_tz": -330
    },
    "id": "fe9086f7",
    "outputId": "5c27bb85-ef75-41be-ce5e-c5cf8205aaec"
   },
   "outputs": [
    {
     "data": {
      "text/plain": [
       "2.276666666666667"
      ]
     },
     "execution_count": 15,
     "metadata": {},
     "output_type": "execute_result"
    }
   ],
   "source": [
    "line_B = twosampup_df[twosampup_df['Production line']==\"B\"]['weight in grams']\n",
    "line_B.mean()"
   ]
  },
  {
   "cell_type": "markdown",
   "id": "01954764",
   "metadata": {
    "id": "01954764"
   },
   "source": [
    "There's a slight difference in the Bolt's weight. Line A Bolts have got lesser weight than that of Line B."
   ]
  },
  {
   "cell_type": "markdown",
   "id": "7e799253",
   "metadata": {},
   "source": [
    "- H0:mean(A)=mean(B)\n",
    "- H1:mean(A)!=mean(B)"
   ]
  },
  {
   "cell_type": "markdown",
   "id": "05f2b159",
   "metadata": {
    "id": "05f2b159"
   },
   "source": [
    "### Pass these arguments to the with unpaired method"
   ]
  },
  {
   "cell_type": "code",
   "execution_count": 16,
   "id": "561bb909",
   "metadata": {
    "colab": {
     "base_uri": "https://localhost:8080/"
    },
    "executionInfo": {
     "elapsed": 401,
     "status": "ok",
     "timestamp": 1705079971939,
     "user": {
      "displayName": "harish kumar",
      "userId": "06127230580454505577"
     },
     "user_tz": -330
    },
    "id": "561bb909",
    "outputId": "d571efc4-6d49-4cc8-c60f-9ae71837b952"
   },
   "outputs": [
    {
     "data": {
      "text/plain": [
       "Ttest_indResult(statistic=-3.2050530416037435, pvalue=0.0024556820555403586)"
      ]
     },
     "execution_count": 16,
     "metadata": {},
     "output_type": "execute_result"
    }
   ],
   "source": [
    "ss.ttest_ind(line_A,line_B, alternative = \"two-sided\")"
   ]
  },
  {
   "cell_type": "markdown",
   "id": "343c53b7",
   "metadata": {
    "id": "343c53b7"
   },
   "source": [
    "**Inferences**\n",
    "- As you can see the p-value (~0.0024) is much lesser than 0.05, and therefore the results are  ***statistically significant***.\n",
    "- Hence, you can say that there's ENOUGH evidence to suggest that there is a difference in the weights between the bolts manufactures in Line A and Line B class."
   ]
  },
  {
   "cell_type": "markdown",
   "id": "bc775ab5",
   "metadata": {},
   "source": [
    "# Two sample mean testing (paired) -1"
   ]
  },
  {
   "cell_type": "markdown",
   "id": "1919a510",
   "metadata": {
    "id": "1919a510"
   },
   "source": [
    "Basket ball coach want to know whether or not a certain training program is able to increase the max vertical jump (in inches) of college basketball players. To test this, we may recruit a sample of 25 college basketball players and measure each of their max vertical jumps. Then, we may have each player use the training program for one month and then measure their max vertical jump again at the end of the month. To track if their is any difference in jump heights of the players after training program, you decided to conduct a few hypothesis tests.\n",
    "\n",
    "- Dataset to use: `paired-jump.csv`"
   ]
  },
  {
   "cell_type": "code",
   "execution_count": 17,
   "id": "de481253",
   "metadata": {
    "executionInfo": {
     "elapsed": 411,
     "status": "ok",
     "timestamp": 1705080309429,
     "user": {
      "displayName": "harish kumar",
      "userId": "06127230580454505577"
     },
     "user_tz": -330
    },
    "id": "de481253"
   },
   "outputs": [],
   "source": [
    "##Let's load the dataset\n",
    "twosampp_df = pd.read_csv(\"paired_jump.csv\")"
   ]
  },
  {
   "cell_type": "code",
   "execution_count": 18,
   "id": "8a98d362",
   "metadata": {
    "colab": {
     "base_uri": "https://localhost:8080/",
     "height": 206
    },
    "collapsed": true,
    "executionInfo": {
     "elapsed": 6,
     "status": "ok",
     "timestamp": 1705080311812,
     "user": {
      "displayName": "harish kumar",
      "userId": "06127230580454505577"
     },
     "user_tz": -330
    },
    "id": "8a98d362",
    "outputId": "44299e62-0adb-45f2-ed23-91f92855a783"
   },
   "outputs": [
    {
     "data": {
      "text/html": [
       "<div>\n",
       "<style scoped>\n",
       "    .dataframe tbody tr th:only-of-type {\n",
       "        vertical-align: middle;\n",
       "    }\n",
       "\n",
       "    .dataframe tbody tr th {\n",
       "        vertical-align: top;\n",
       "    }\n",
       "\n",
       "    .dataframe thead th {\n",
       "        text-align: right;\n",
       "    }\n",
       "</style>\n",
       "<table border=\"1\" class=\"dataframe\">\n",
       "  <thead>\n",
       "    <tr style=\"text-align: right;\">\n",
       "      <th></th>\n",
       "      <th>Player</th>\n",
       "      <th>Jump before training</th>\n",
       "      <th>Jump after training</th>\n",
       "    </tr>\n",
       "  </thead>\n",
       "  <tbody>\n",
       "    <tr>\n",
       "      <th>0</th>\n",
       "      <td>Player 1</td>\n",
       "      <td>22</td>\n",
       "      <td>24</td>\n",
       "    </tr>\n",
       "    <tr>\n",
       "      <th>1</th>\n",
       "      <td>Player 2</td>\n",
       "      <td>20</td>\n",
       "      <td>22</td>\n",
       "    </tr>\n",
       "    <tr>\n",
       "      <th>2</th>\n",
       "      <td>Player 3</td>\n",
       "      <td>19</td>\n",
       "      <td>19</td>\n",
       "    </tr>\n",
       "    <tr>\n",
       "      <th>3</th>\n",
       "      <td>Player 4</td>\n",
       "      <td>24</td>\n",
       "      <td>22</td>\n",
       "    </tr>\n",
       "    <tr>\n",
       "      <th>4</th>\n",
       "      <td>Player 5</td>\n",
       "      <td>25</td>\n",
       "      <td>28</td>\n",
       "    </tr>\n",
       "  </tbody>\n",
       "</table>\n",
       "</div>"
      ],
      "text/plain": [
       "     Player  Jump before training  Jump after training\n",
       "0  Player 1                    22                   24\n",
       "1  Player 2                    20                   22\n",
       "2  Player 3                    19                   19\n",
       "3  Player 4                    24                   22\n",
       "4  Player 5                    25                   28"
      ]
     },
     "execution_count": 18,
     "metadata": {},
     "output_type": "execute_result"
    }
   ],
   "source": [
    "twosampp_df.head()"
   ]
  },
  {
   "cell_type": "code",
   "execution_count": 19,
   "id": "fba2e96e",
   "metadata": {
    "colab": {
     "base_uri": "https://localhost:8080/"
    },
    "executionInfo": {
     "elapsed": 411,
     "status": "ok",
     "timestamp": 1705080421400,
     "user": {
      "displayName": "harish kumar",
      "userId": "06127230580454505577"
     },
     "user_tz": -330
    },
    "id": "fba2e96e",
    "outputId": "68098bb5-557e-4be5-e9e1-642ad66103d2"
   },
   "outputs": [
    {
     "data": {
      "text/plain": [
       "22.72"
      ]
     },
     "execution_count": 19,
     "metadata": {},
     "output_type": "execute_result"
    }
   ],
   "source": [
    "### Average Jump height before training\n",
    "twosampp_df['Jump before training'].mean()"
   ]
  },
  {
   "cell_type": "code",
   "execution_count": 20,
   "id": "66ae20ed",
   "metadata": {
    "colab": {
     "base_uri": "https://localhost:8080/"
    },
    "executionInfo": {
     "elapsed": 375,
     "status": "ok",
     "timestamp": 1705080431923,
     "user": {
      "displayName": "harish kumar",
      "userId": "06127230580454505577"
     },
     "user_tz": -330
    },
    "id": "66ae20ed",
    "outputId": "54ebffad-2126-4426-dca7-bcca66b4f656"
   },
   "outputs": [
    {
     "data": {
      "text/plain": [
       "23.8"
      ]
     },
     "execution_count": 20,
     "metadata": {},
     "output_type": "execute_result"
    }
   ],
   "source": [
    "### Average Jump height after training\n",
    "twosampp_df['Jump after training'].mean()"
   ]
  },
  {
   "cell_type": "markdown",
   "id": "b7fa7110",
   "metadata": {
    "id": "b7fa7110"
   },
   "source": [
    "The null hypothesis is that, on average, the Jump height will be similar for both before and after training program. Our task is to determine, whether there's enough statistical evidence to suggest otherwise"
   ]
  },
  {
   "cell_type": "markdown",
   "id": "b9b9ec07",
   "metadata": {},
   "source": [
    "- H0: Mean(Before Training)=Mean(After Training)\n",
    "- H1: Mean(Before Training)!=Mean(After Training)"
   ]
  },
  {
   "cell_type": "markdown",
   "id": "e86ab3e6",
   "metadata": {
    "id": "e86ab3e6"
   },
   "source": [
    "Here again, we see a slight difference in Jump height, with the height after training being better on average by ~1 inch as compared to the height before training. Let's evaluate if this difference is statistically significant"
   ]
  },
  {
   "cell_type": "code",
   "execution_count": 21,
   "id": "7f5c9d0f",
   "metadata": {
    "colab": {
     "base_uri": "https://localhost:8080/"
    },
    "executionInfo": {
     "elapsed": 375,
     "status": "ok",
     "timestamp": 1705080492479,
     "user": {
      "displayName": "harish kumar",
      "userId": "06127230580454505577"
     },
     "user_tz": -330
    },
    "id": "7f5c9d0f",
    "outputId": "42c6ea86-4b56-43ac-af52-7a5896f284e1"
   },
   "outputs": [
    {
     "data": {
      "text/plain": [
       "TtestResult(statistic=-3.2602767700386956, pvalue=0.0033180017066275855, df=24)"
      ]
     },
     "execution_count": 21,
     "metadata": {},
     "output_type": "execute_result"
    }
   ],
   "source": [
    "ss.ttest_rel(twosampp_df['Jump before training'],twosampp_df['Jump after training'], alternative = \"two-sided\")"
   ]
  },
  {
   "cell_type": "markdown",
   "id": "d0c7d6e3",
   "metadata": {
    "id": "d0c7d6e3"
   },
   "source": [
    "**Inferences**\n",
    "- As you can see the p-value (~0.0033) is much lesser than 0.05, and therefore the results are ***statistically significant.***\n",
    "- Hence, you can say that there's ENOUGH evidence to suggest that there is a difference in the Jump heights after the training program."
   ]
  },
  {
   "cell_type": "markdown",
   "id": "bba31a22",
   "metadata": {
    "id": "bba31a22"
   },
   "source": [
    "# Two sample mean testing (paired) -2"
   ]
  },
  {
   "cell_type": "markdown",
   "id": "78efce1c",
   "metadata": {
    "id": "78efce1c"
   },
   "source": [
    "Suppose chemical engineers wish to compare the fuel economy obtained by two different formulations of gasoline. Since fuel economy varies widely from car to car, if the mean fuel economy of two independent\n",
    "samples of vehicles run on the two types of fuel were compared, even if one formulation were better than the other the large variability from vehicle to vehicle might make any difference arising from difference in fuel difficult to detect. To track if different gasoline causes any difference in fuel economy of the car, you decided to conduct a few hypothesis tests.\n",
    "\n",
    "- Dataset to use: `paired-car.csv`"
   ]
  },
  {
   "cell_type": "code",
   "execution_count": 23,
   "id": "80123b3d",
   "metadata": {
    "id": "80123b3d"
   },
   "outputs": [],
   "source": [
    "##Let's load the dataset\n",
    "twosampp_df = pd.read_csv(\"paired_car.csv\")"
   ]
  },
  {
   "cell_type": "code",
   "execution_count": 24,
   "id": "4e2566bd",
   "metadata": {
    "collapsed": true,
    "id": "4e2566bd",
    "outputId": "33d6917a-0593-402a-f074-6d2f883634f1"
   },
   "outputs": [
    {
     "data": {
      "text/html": [
       "<div>\n",
       "<style scoped>\n",
       "    .dataframe tbody tr th:only-of-type {\n",
       "        vertical-align: middle;\n",
       "    }\n",
       "\n",
       "    .dataframe tbody tr th {\n",
       "        vertical-align: top;\n",
       "    }\n",
       "\n",
       "    .dataframe thead th {\n",
       "        text-align: right;\n",
       "    }\n",
       "</style>\n",
       "<table border=\"1\" class=\"dataframe\">\n",
       "  <thead>\n",
       "    <tr style=\"text-align: right;\">\n",
       "      <th></th>\n",
       "      <th>Car model</th>\n",
       "      <th>Car 1</th>\n",
       "      <th>Car 2</th>\n",
       "    </tr>\n",
       "  </thead>\n",
       "  <tbody>\n",
       "    <tr>\n",
       "      <th>0</th>\n",
       "      <td>Volvo XC 60</td>\n",
       "      <td>17.0</td>\n",
       "      <td>17.0</td>\n",
       "    </tr>\n",
       "    <tr>\n",
       "      <th>1</th>\n",
       "      <td>Dodge Viper</td>\n",
       "      <td>13.2</td>\n",
       "      <td>12.9</td>\n",
       "    </tr>\n",
       "    <tr>\n",
       "      <th>2</th>\n",
       "      <td>Honda CR-Z</td>\n",
       "      <td>35.3</td>\n",
       "      <td>35.4</td>\n",
       "    </tr>\n",
       "    <tr>\n",
       "      <th>3</th>\n",
       "      <td>Hummer H3</td>\n",
       "      <td>13.6</td>\n",
       "      <td>13.2</td>\n",
       "    </tr>\n",
       "    <tr>\n",
       "      <th>4</th>\n",
       "      <td>Lexus RX</td>\n",
       "      <td>32.7</td>\n",
       "      <td>32.5</td>\n",
       "    </tr>\n",
       "  </tbody>\n",
       "</table>\n",
       "</div>"
      ],
      "text/plain": [
       "     Car model  Car 1  Car 2\n",
       "0  Volvo XC 60   17.0   17.0\n",
       "1  Dodge Viper   13.2   12.9\n",
       "2   Honda CR-Z   35.3   35.4\n",
       "3    Hummer H3   13.6   13.2\n",
       "4     Lexus RX   32.7   32.5"
      ]
     },
     "execution_count": 24,
     "metadata": {},
     "output_type": "execute_result"
    }
   ],
   "source": [
    "twosampp_df.head()"
   ]
  },
  {
   "cell_type": "code",
   "execution_count": 25,
   "id": "49cccd20",
   "metadata": {
    "id": "49cccd20",
    "outputId": "98b6f628-a31b-467a-cf43-a4200b2d643a"
   },
   "outputs": [
    {
     "data": {
      "text/plain": [
       "21.62222222222222"
      ]
     },
     "execution_count": 25,
     "metadata": {},
     "output_type": "execute_result"
    }
   ],
   "source": [
    "twosampp_df['Car 1'].mean()"
   ]
  },
  {
   "cell_type": "code",
   "execution_count": 26,
   "id": "e1c19cb7",
   "metadata": {
    "id": "e1c19cb7",
    "outputId": "54f2b9c3-7061-49dd-ffee-de566e0c3221"
   },
   "outputs": [
    {
     "data": {
      "text/plain": [
       "21.477777777777778"
      ]
     },
     "execution_count": 26,
     "metadata": {},
     "output_type": "execute_result"
    }
   ],
   "source": [
    "twosampp_df['Car 2'].mean()"
   ]
  },
  {
   "cell_type": "code",
   "execution_count": 27,
   "id": "73bcb5ca",
   "metadata": {
    "id": "73bcb5ca",
    "outputId": "b0fabc53-211c-4511-dbb2-249cb8d7e006"
   },
   "outputs": [
    {
     "data": {
      "text/plain": [
       "TtestResult(statistic=2.5999999999999988, pvalue=0.03161781156452984, df=8)"
      ]
     },
     "execution_count": 27,
     "metadata": {},
     "output_type": "execute_result"
    }
   ],
   "source": [
    "ss.ttest_rel(twosampp_df['Car 1'],twosampp_df['Car 2'], alternative = \"two-sided\")"
   ]
  },
  {
   "cell_type": "markdown",
   "id": "f33da6c3",
   "metadata": {
    "id": "f33da6c3"
   },
   "source": [
    "**Inferences**\n",
    "- As you can see the p-value (~0.03161) is much lesser than 0.05, and therefore the results are ***statistically significant.***\n",
    "- Hence, you can say that there's ENOUGH evidence to suggest that there is a difference in the Fuel economy after using different formulation of Gasoline"
   ]
  },
  {
   "cell_type": "code",
   "execution_count": null,
   "id": "9d4eba49",
   "metadata": {},
   "outputs": [],
   "source": []
  }
 ],
 "metadata": {
  "kernelspec": {
   "display_name": "Python 3",
   "language": "python",
   "name": "python3"
  },
  "language_info": {
   "codemirror_mode": {
    "name": "ipython",
    "version": 3
   },
   "file_extension": ".py",
   "mimetype": "text/x-python",
   "name": "python",
   "nbconvert_exporter": "python",
   "pygments_lexer": "ipython3",
   "version": "3.8.8"
  }
 },
 "nbformat": 4,
 "nbformat_minor": 5
}
