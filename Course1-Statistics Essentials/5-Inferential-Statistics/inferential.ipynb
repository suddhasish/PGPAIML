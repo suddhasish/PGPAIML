{
 "cells": [
  {
   "cell_type": "code",
   "execution_count": 2,
   "metadata": {},
   "outputs": [],
   "source": [
    "import numpy as np\n",
    "import pandas as pd"
   ]
  },
  {
   "cell_type": "code",
   "execution_count": 3,
   "metadata": {},
   "outputs": [],
   "source": [
    "#loading loan dataset\n",
    "df=pd.read_csv(\"Inferential Statistics - Student Loan.csv\")"
   ]
  },
  {
   "cell_type": "code",
   "execution_count": 4,
   "metadata": {},
   "outputs": [],
   "source": [
    "df[\"Recovery (%)\"]=df[\"Recovery (%)\"].str.replace('%','')"
   ]
  },
  {
   "cell_type": "code",
   "execution_count": 6,
   "metadata": {},
   "outputs": [],
   "source": [
    "df[\"Recovery (%)\"]=df[\"Recovery (%)\"].astype(float)"
   ]
  },
  {
   "cell_type": "code",
   "execution_count": 7,
   "metadata": {},
   "outputs": [],
   "source": [
    "df[\"Recovery (%)\"]=df[\"Recovery (%)\"]/100"
   ]
  },
  {
   "cell_type": "code",
   "execution_count": 8,
   "metadata": {},
   "outputs": [],
   "source": [
    "df[\"expected_loss\"]=df[\"Exposure at Default (in lakh Rs.)\"]*df[\"Probability of Default\"]*(1-df[\"Recovery (%)\"])"
   ]
  },
  {
   "cell_type": "code",
   "execution_count": 9,
   "metadata": {},
   "outputs": [
    {
     "data": {
      "text/html": [
       "<div>\n",
       "<style scoped>\n",
       "    .dataframe tbody tr th:only-of-type {\n",
       "        vertical-align: middle;\n",
       "    }\n",
       "\n",
       "    .dataframe tbody tr th {\n",
       "        vertical-align: top;\n",
       "    }\n",
       "\n",
       "    .dataframe thead th {\n",
       "        text-align: right;\n",
       "    }\n",
       "</style>\n",
       "<table border=\"1\" class=\"dataframe\">\n",
       "  <thead>\n",
       "    <tr style=\"text-align: right;\">\n",
       "      <th></th>\n",
       "      <th>Customer No.</th>\n",
       "      <th>Exposure at Default (in lakh Rs.)</th>\n",
       "      <th>Recovery (%)</th>\n",
       "      <th>Probability of Default</th>\n",
       "      <th>Unnamed: 4</th>\n",
       "      <th>Unnamed: 5</th>\n",
       "      <th>expected_loss</th>\n",
       "    </tr>\n",
       "  </thead>\n",
       "  <tbody>\n",
       "    <tr>\n",
       "      <th>0</th>\n",
       "      <td>1</td>\n",
       "      <td>11.50</td>\n",
       "      <td>0.2000</td>\n",
       "      <td>0.0070</td>\n",
       "      <td>NaN</td>\n",
       "      <td>NaN</td>\n",
       "      <td>0.064400</td>\n",
       "    </tr>\n",
       "    <tr>\n",
       "      <th>1</th>\n",
       "      <td>2</td>\n",
       "      <td>0.24</td>\n",
       "      <td>0.0510</td>\n",
       "      <td>0.0033</td>\n",
       "      <td>NaN</td>\n",
       "      <td>NaN</td>\n",
       "      <td>0.000752</td>\n",
       "    </tr>\n",
       "    <tr>\n",
       "      <th>2</th>\n",
       "      <td>3</td>\n",
       "      <td>0.04</td>\n",
       "      <td>0.2486</td>\n",
       "      <td>0.0022</td>\n",
       "      <td>NaN</td>\n",
       "      <td>NaN</td>\n",
       "      <td>0.000066</td>\n",
       "    </tr>\n",
       "  </tbody>\n",
       "</table>\n",
       "</div>"
      ],
      "text/plain": [
       "   Customer No.  Exposure at Default (in lakh Rs.)  Recovery (%)  \\\n",
       "0             1                              11.50        0.2000   \n",
       "1             2                               0.24        0.0510   \n",
       "2             3                               0.04        0.2486   \n",
       "\n",
       "   Probability of Default  Unnamed: 4  Unnamed: 5  expected_loss  \n",
       "0                  0.0070         NaN         NaN       0.064400  \n",
       "1                  0.0033         NaN         NaN       0.000752  \n",
       "2                  0.0022         NaN         NaN       0.000066  "
      ]
     },
     "execution_count": 9,
     "metadata": {},
     "output_type": "execute_result"
    }
   ],
   "source": [
    "df.head(3)"
   ]
  },
  {
   "cell_type": "code",
   "execution_count": 10,
   "metadata": {},
   "outputs": [
    {
     "data": {
      "text/plain": [
       "493.39131440619997"
      ]
     },
     "execution_count": 10,
     "metadata": {},
     "output_type": "execute_result"
    }
   ],
   "source": [
    "df[\"expected_loss\"].sum()"
   ]
  },
  {
   "cell_type": "code",
   "execution_count": null,
   "metadata": {},
   "outputs": [],
   "source": [
    "\"\"\" Feedback:\n",
    "As you saw in the previous question, expected loss because of the first customer is ₹6,440. In general, it is given by PD*EAD*(1-R) for each customer. Using R or Excel, you can find the expected loss for each customer using this formula. Adding up all of these 10,000 customers' expected losses, we get that the total expected loss = ₹4.93 crores. \"\"\""
   ]
  },
  {
   "cell_type": "code",
   "execution_count": null,
   "metadata": {},
   "outputs": [],
   "source": [
    "\"\"\" Graded Questions\n",
    "A roulette wheel is a game found in many casinos. Let’s go through it and understand how the roulette wheel's design ensures that, in the long run, the player always loses and the house always wins.\n",
    "\n",
    "\n",
    "This is a European roulette wheel.\n",
    "\n",
    "Figure 7 - European Roulette Wheel\n",
    "Figure 7 - European Roulette Wheel\n",
    "It contains the numbers 0 to 36 written in an irregular sequence. \n",
    "The players can bet on any number from 0 to 36. For example, let’s say that Kriti bets £100 on the number 5. \n",
    "Now, a ball would be dropped into the wheel, which is then given a spin. \n",
    "If the ball lands on the pocket marked 5, Kriti would win (£100)*36 = £3,600, resulting in net winnings of £3,600 - £100 = £3,500. \n",
    "However, if the ball lands on any other pocket, Kriti would not win anything, resulting in net winnings of £0 - £100 = - £100.\n",
    "\n",
    "\n",
    "Let’s see what the expected value is for Kriti’s net winnings if she plays this game and bets £100 on the number 5. \"\"\""
   ]
  },
  {
   "cell_type": "code",
   "execution_count": null,
   "metadata": {},
   "outputs": [],
   "source": [
    "\"\"\" European Roulette Wheel\n",
    "First of all, what is the probability of Kriti winning the game if she bets on the number 5? \n",
    "\n",
    "\n",
    "There are a total of 37 equally likely possibilities (0 to 36). \n",
    "However, there is only one possibility in which Kriti will win, i.e. the one in which the ball would land on the pocket marked 5. \n",
    "Hence, the probability of her winning the game is 1/37.\n",
    "\n",
    "\"\"\""
   ]
  },
  {
   "cell_type": "code",
   "execution_count": null,
   "metadata": {},
   "outputs": [],
   "source": [
    "\"\"\" European Roulette Wheel\n",
    "Now, let’s say that we define the random variable X as Kriti’s net winnings if she plays this game and bets £100 on the number 5. What is the expected value of X? \"\"\""
   ]
  },
  {
   "cell_type": "code",
   "execution_count": null,
   "metadata": {},
   "outputs": [],
   "source": [
    "\"\"\" \n",
    "-£2.70\n",
    "✓ Correct\n",
    "Feedback:\n",
    "There are two possible values of X, 3,500 and -100. The probability of Kriti’s net winnings being 3,500 is basically the probability of her winning the game, which, as we saw in a previous question, is 1/37. The probability of her net winnings being equal to -100 is basically the probability of her losing the game, which is 36/37. \n",
    "So, the expected value of X = P(X=-100)*(-100) + P(X=3500)*3500 = (36/37)*(-100)+(1/37)*(3500) = -2.70. \"\"\""
   ]
  },
  {
   "cell_type": "code",
   "execution_count": null,
   "metadata": {},
   "outputs": [],
   "source": [
    "\"\"\" The only difference between the American roulette wheel and the one you saw before, i.e. the European roulette wheel, is that, in addition to the numbers 0 to 36, it contains a number ‘00’. The player can bet on any number from 1 to 36. \"\"\""
   ]
  },
  {
   "cell_type": "code",
   "execution_count": null,
   "metadata": {},
   "outputs": [],
   "source": [
    "\"\"\" -£5.26\n",
    "✓ Correct\n",
    "Feedback:\n",
    "Again, there are two possible values of X, 3,500 and -100. However, this time, the probability of Kriti’s net winnings being 3,500 is 1/38, \n",
    "as there are a total of 38 possible outcomes. The probability of her net winnings being equal to -100, \n",
    "basically the probability of her losing the game, is now 37/38. So, the expected value of X = P(X=-100)*(-100) + P(X=3500)*3500 = (37/38)*(-100)+(1/38)*(3500) = -5.26. \"\"\""
   ]
  }
 ],
 "metadata": {
  "kernelspec": {
   "display_name": "Python 3",
   "language": "python",
   "name": "python3"
  },
  "language_info": {
   "codemirror_mode": {
    "name": "ipython",
    "version": 3
   },
   "file_extension": ".py",
   "mimetype": "text/x-python",
   "name": "python",
   "nbconvert_exporter": "python",
   "pygments_lexer": "ipython3",
   "version": "3.11.9"
  }
 },
 "nbformat": 4,
 "nbformat_minor": 2
}
