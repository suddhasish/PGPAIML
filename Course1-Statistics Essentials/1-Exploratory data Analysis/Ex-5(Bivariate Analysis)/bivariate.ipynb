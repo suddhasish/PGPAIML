{
 "cells": [
  {
   "cell_type": "code",
   "execution_count": null,
   "metadata": {},
   "outputs": [],
   "source": [
    "\"\"\" Comprehension: Correlation\n",
    "\n",
    " Note: The following questions will require you to manipulate dates and time in Python. \n",
    "In case you want to learn how to do that, you can access some quick tutorials here and you may read in detail about date and time here. \n",
    " \n",
    "\n",
    "Let us take an example of gold and silver prices in Indian currency per troy ounce ( = 31.8 grams). Do you expect gold and silver price to be correlated? Let’s find out.\n",
    " Download the file and import it in Python for analysis. The dataset provided below contains the gold and silver prices across various years and months. \"\"\""
   ]
  },
  {
   "cell_type": "code",
   "execution_count": 3,
   "metadata": {},
   "outputs": [],
   "source": [
    "import numpy as np\n",
    "import pandas as pd \n",
    "import seaborn as sns \n",
    "import matplotlib.pyplot as plt"
   ]
  },
  {
   "cell_type": "code",
   "execution_count": 2,
   "metadata": {},
   "outputs": [],
   "source": [
    "dfgoldsilver=pd.read_csv(\"EDA_Gold_Silver_prices.csv\")"
   ]
  },
  {
   "cell_type": "code",
   "execution_count": 6,
   "metadata": {},
   "outputs": [],
   "source": [
    "df1=dfgoldsilver[[\"SilverPrice\",\"GoldPrice\"]]"
   ]
  },
  {
   "cell_type": "code",
   "execution_count": 7,
   "metadata": {},
   "outputs": [
    {
     "data": {
      "text/html": [
       "<div>\n",
       "<style scoped>\n",
       "    .dataframe tbody tr th:only-of-type {\n",
       "        vertical-align: middle;\n",
       "    }\n",
       "\n",
       "    .dataframe tbody tr th {\n",
       "        vertical-align: top;\n",
       "    }\n",
       "\n",
       "    .dataframe thead th {\n",
       "        text-align: right;\n",
       "    }\n",
       "</style>\n",
       "<table border=\"1\" class=\"dataframe\">\n",
       "  <thead>\n",
       "    <tr style=\"text-align: right;\">\n",
       "      <th></th>\n",
       "      <th>SilverPrice</th>\n",
       "      <th>GoldPrice</th>\n",
       "    </tr>\n",
       "  </thead>\n",
       "  <tbody>\n",
       "    <tr>\n",
       "      <th>SilverPrice</th>\n",
       "      <td>1.000000</td>\n",
       "      <td>0.954256</td>\n",
       "    </tr>\n",
       "    <tr>\n",
       "      <th>GoldPrice</th>\n",
       "      <td>0.954256</td>\n",
       "      <td>1.000000</td>\n",
       "    </tr>\n",
       "  </tbody>\n",
       "</table>\n",
       "</div>"
      ],
      "text/plain": [
       "             SilverPrice  GoldPrice\n",
       "SilverPrice     1.000000   0.954256\n",
       "GoldPrice       0.954256   1.000000"
      ]
     },
     "execution_count": 7,
     "metadata": {},
     "output_type": "execute_result"
    }
   ],
   "source": [
    "df1.corr(method='pearson')"
   ]
  },
  {
   "cell_type": "code",
   "execution_count": 13,
   "metadata": {},
   "outputs": [],
   "source": [
    "dfgoldsilve1=pd.read_csv(\"EDA.csv\")"
   ]
  },
  {
   "cell_type": "code",
   "execution_count": 15,
   "metadata": {},
   "outputs": [
    {
     "data": {
      "text/html": [
       "<div>\n",
       "<style scoped>\n",
       "    .dataframe tbody tr th:only-of-type {\n",
       "        vertical-align: middle;\n",
       "    }\n",
       "\n",
       "    .dataframe tbody tr th {\n",
       "        vertical-align: top;\n",
       "    }\n",
       "\n",
       "    .dataframe thead th {\n",
       "        text-align: right;\n",
       "    }\n",
       "</style>\n",
       "<table border=\"1\" class=\"dataframe\">\n",
       "  <thead>\n",
       "    <tr style=\"text-align: right;\">\n",
       "      <th></th>\n",
       "      <th>SilverPrice</th>\n",
       "      <th>GoldPrice</th>\n",
       "    </tr>\n",
       "  </thead>\n",
       "  <tbody>\n",
       "    <tr>\n",
       "      <th>SilverPrice</th>\n",
       "      <td>1.000000</td>\n",
       "      <td>0.458854</td>\n",
       "    </tr>\n",
       "    <tr>\n",
       "      <th>GoldPrice</th>\n",
       "      <td>0.458854</td>\n",
       "      <td>1.000000</td>\n",
       "    </tr>\n",
       "  </tbody>\n",
       "</table>\n",
       "</div>"
      ],
      "text/plain": [
       "             SilverPrice  GoldPrice\n",
       "SilverPrice     1.000000   0.458854\n",
       "GoldPrice       0.458854   1.000000"
      ]
     },
     "execution_count": 15,
     "metadata": {},
     "output_type": "execute_result"
    }
   ],
   "source": [
    "dfgoldsilve1[[\"SilverPrice\",\"GoldPrice\"]].corr(method='pearson')"
   ]
  },
  {
   "cell_type": "code",
   "execution_count": 4,
   "metadata": {},
   "outputs": [],
   "source": [
    "currdf=pd.read_csv(\"currencies.csv\")"
   ]
  },
  {
   "cell_type": "code",
   "execution_count": 8,
   "metadata": {},
   "outputs": [
    {
     "data": {
      "text/plain": [
       "Index(['Currency', 'Chinese Yuan', 'Euro', 'Japanese Yen',\n",
       "       'U.K. Pound Sterling', 'U.S. Dollar', 'Algerian Dinar',\n",
       "       'Australian Dollar', 'Bahrain Dinar', 'Botswana Pula', 'Brazilian Real',\n",
       "       'Brunei Dollar', 'Canadian Dollar', 'Chilean Peso', 'Colombian Peso',\n",
       "       'Czech Koruna', 'Danish Krone', 'Hungarian Forint', 'Icelandic Krona',\n",
       "       'Indian Rupee', 'Indonesian Rupiah', 'Iranian Rial',\n",
       "       'Israeli New Sheqel', 'Kazakhstani Tenge', 'Korean Won',\n",
       "       'Kuwaiti Dinar', 'Libyan Dinar', 'Malaysian Ringgit', 'Mauritian Rupee',\n",
       "       'Mexican Peso', 'Nepalese Rupee', 'New Zealand Dollar',\n",
       "       'Norwegian Krone', 'Rial Omani', 'Pakistani Rupee', 'Nuevo Sol',\n",
       "       'Philippine Peso', 'Polish Zloty', 'Qatar Riyal', 'Russian Ruble',\n",
       "       'Saudi Arabian Riyal', 'Singapore Dollar', 'South African Rand',\n",
       "       'Sri Lanka Rupee', 'Swedish Krona', 'Swiss Franc', 'Thai Baht',\n",
       "       'Trinidad And Tobago Dollar', 'Tunisian Dinar', 'U.A.E. Dirham',\n",
       "       'Peso Uruguayo', 'Bolivar Fuerte'],\n",
       "      dtype='object')"
      ]
     },
     "execution_count": 8,
     "metadata": {},
     "output_type": "execute_result"
    }
   ],
   "source": [
    "currdf.columns"
   ]
  },
  {
   "cell_type": "code",
   "execution_count": 10,
   "metadata": {},
   "outputs": [
    {
     "data": {
      "text/html": [
       "<div>\n",
       "<style scoped>\n",
       "    .dataframe tbody tr th:only-of-type {\n",
       "        vertical-align: middle;\n",
       "    }\n",
       "\n",
       "    .dataframe tbody tr th {\n",
       "        vertical-align: top;\n",
       "    }\n",
       "\n",
       "    .dataframe thead th {\n",
       "        text-align: right;\n",
       "    }\n",
       "</style>\n",
       "<table border=\"1\" class=\"dataframe\">\n",
       "  <thead>\n",
       "    <tr style=\"text-align: right;\">\n",
       "      <th></th>\n",
       "      <th>Chinese Yuan</th>\n",
       "      <th>Euro</th>\n",
       "      <th>Japanese Yen</th>\n",
       "      <th>U.K. Pound Sterling</th>\n",
       "      <th>U.S. Dollar</th>\n",
       "      <th>Australian Dollar</th>\n",
       "      <th>Indian Rupee</th>\n",
       "    </tr>\n",
       "  </thead>\n",
       "  <tbody>\n",
       "    <tr>\n",
       "      <th>0</th>\n",
       "      <td>9.29446</td>\n",
       "      <td>1.25367</td>\n",
       "      <td>143.645</td>\n",
       "      <td>1.05054</td>\n",
       "      <td>1.39596</td>\n",
       "      <td>1.87126</td>\n",
       "      <td>94.1451</td>\n",
       "    </tr>\n",
       "    <tr>\n",
       "      <th>1</th>\n",
       "      <td>9.31515</td>\n",
       "      <td>1.25322</td>\n",
       "      <td>142.715</td>\n",
       "      <td>1.06143</td>\n",
       "      <td>1.39684</td>\n",
       "      <td>1.85825</td>\n",
       "      <td>94.1513</td>\n",
       "    </tr>\n",
       "    <tr>\n",
       "      <th>2</th>\n",
       "      <td>9.31697</td>\n",
       "      <td>1.25834</td>\n",
       "      <td>140.540</td>\n",
       "      <td>1.07300</td>\n",
       "      <td>1.39286</td>\n",
       "      <td>1.87313</td>\n",
       "      <td>NaN</td>\n",
       "    </tr>\n",
       "    <tr>\n",
       "      <th>3</th>\n",
       "      <td>9.31315</td>\n",
       "      <td>1.25737</td>\n",
       "      <td>140.640</td>\n",
       "      <td>1.06911</td>\n",
       "      <td>1.39316</td>\n",
       "      <td>1.85236</td>\n",
       "      <td>94.0345</td>\n",
       "    </tr>\n",
       "    <tr>\n",
       "      <th>4</th>\n",
       "      <td>9.31350</td>\n",
       "      <td>1.25797</td>\n",
       "      <td>140.510</td>\n",
       "      <td>1.07261</td>\n",
       "      <td>1.39257</td>\n",
       "      <td>1.85974</td>\n",
       "      <td>93.9408</td>\n",
       "    </tr>\n",
       "    <tr>\n",
       "      <th>5</th>\n",
       "      <td>9.29403</td>\n",
       "      <td>1.25769</td>\n",
       "      <td>139.962</td>\n",
       "      <td>1.07050</td>\n",
       "      <td>1.38962</td>\n",
       "      <td>1.83836</td>\n",
       "      <td>93.3027</td>\n",
       "    </tr>\n",
       "    <tr>\n",
       "      <th>6</th>\n",
       "      <td>9.31021</td>\n",
       "      <td>1.25490</td>\n",
       "      <td>143.369</td>\n",
       "      <td>1.05762</td>\n",
       "      <td>1.39194</td>\n",
       "      <td>1.83439</td>\n",
       "      <td>93.4641</td>\n",
       "    </tr>\n",
       "    <tr>\n",
       "      <th>7</th>\n",
       "      <td>9.31350</td>\n",
       "      <td>1.25716</td>\n",
       "      <td>145.178</td>\n",
       "      <td>1.04680</td>\n",
       "      <td>1.39193</td>\n",
       "      <td>1.83101</td>\n",
       "      <td>93.5445</td>\n",
       "    </tr>\n",
       "    <tr>\n",
       "      <th>8</th>\n",
       "      <td>9.30432</td>\n",
       "      <td>1.24695</td>\n",
       "      <td>144.895</td>\n",
       "      <td>1.05236</td>\n",
       "      <td>1.39122</td>\n",
       "      <td>1.82791</td>\n",
       "      <td>93.0917</td>\n",
       "    </tr>\n",
       "    <tr>\n",
       "      <th>9</th>\n",
       "      <td>9.31532</td>\n",
       "      <td>1.25263</td>\n",
       "      <td>147.268</td>\n",
       "      <td>1.04242</td>\n",
       "      <td>1.39392</td>\n",
       "      <td>1.82786</td>\n",
       "      <td>NaN</td>\n",
       "    </tr>\n",
       "    <tr>\n",
       "      <th>10</th>\n",
       "      <td>9.30354</td>\n",
       "      <td>1.25652</td>\n",
       "      <td>NaN</td>\n",
       "      <td>1.04952</td>\n",
       "      <td>1.38883</td>\n",
       "      <td>1.82741</td>\n",
       "      <td>93.1923</td>\n",
       "    </tr>\n",
       "  </tbody>\n",
       "</table>\n",
       "</div>"
      ],
      "text/plain": [
       "    Chinese Yuan     Euro  Japanese Yen  U.K. Pound Sterling  U.S. Dollar  \\\n",
       "0        9.29446  1.25367       143.645              1.05054      1.39596   \n",
       "1        9.31515  1.25322       142.715              1.06143      1.39684   \n",
       "2        9.31697  1.25834       140.540              1.07300      1.39286   \n",
       "3        9.31315  1.25737       140.640              1.06911      1.39316   \n",
       "4        9.31350  1.25797       140.510              1.07261      1.39257   \n",
       "5        9.29403  1.25769       139.962              1.07050      1.38962   \n",
       "6        9.31021  1.25490       143.369              1.05762      1.39194   \n",
       "7        9.31350  1.25716       145.178              1.04680      1.39193   \n",
       "8        9.30432  1.24695       144.895              1.05236      1.39122   \n",
       "9        9.31532  1.25263       147.268              1.04242      1.39392   \n",
       "10       9.30354  1.25652           NaN              1.04952      1.38883   \n",
       "\n",
       "    Australian Dollar  Indian Rupee  \n",
       "0             1.87126       94.1451  \n",
       "1             1.85825       94.1513  \n",
       "2             1.87313           NaN  \n",
       "3             1.85236       94.0345  \n",
       "4             1.85974       93.9408  \n",
       "5             1.83836       93.3027  \n",
       "6             1.83439       93.4641  \n",
       "7             1.83101       93.5445  \n",
       "8             1.82791       93.0917  \n",
       "9             1.82786           NaN  \n",
       "10            1.82741       93.1923  "
      ]
     },
     "execution_count": 10,
     "metadata": {},
     "output_type": "execute_result"
    }
   ],
   "source": [
    "currdf[['Chinese Yuan','Euro','Japanese Yen','U.K. Pound Sterling','U.S. Dollar','Australian Dollar','Indian Rupee']]"
   ]
  },
  {
   "cell_type": "code",
   "execution_count": 11,
   "metadata": {},
   "outputs": [],
   "source": [
    "corr=currdf[['Chinese Yuan','Euro','Japanese Yen','U.K. Pound Sterling','U.S. Dollar','Australian Dollar','Indian Rupee']].corr() # creating co realtion"
   ]
  },
  {
   "cell_type": "code",
   "execution_count": 12,
   "metadata": {},
   "outputs": [
    {
     "data": {
      "text/html": [
       "<div>\n",
       "<style scoped>\n",
       "    .dataframe tbody tr th:only-of-type {\n",
       "        vertical-align: middle;\n",
       "    }\n",
       "\n",
       "    .dataframe tbody tr th {\n",
       "        vertical-align: top;\n",
       "    }\n",
       "\n",
       "    .dataframe thead th {\n",
       "        text-align: right;\n",
       "    }\n",
       "</style>\n",
       "<table border=\"1\" class=\"dataframe\">\n",
       "  <thead>\n",
       "    <tr style=\"text-align: right;\">\n",
       "      <th></th>\n",
       "      <th>Chinese Yuan</th>\n",
       "      <th>Euro</th>\n",
       "      <th>Japanese Yen</th>\n",
       "      <th>U.K. Pound Sterling</th>\n",
       "      <th>U.S. Dollar</th>\n",
       "      <th>Australian Dollar</th>\n",
       "      <th>Indian Rupee</th>\n",
       "    </tr>\n",
       "  </thead>\n",
       "  <tbody>\n",
       "    <tr>\n",
       "      <th>Chinese Yuan</th>\n",
       "      <td>1.000000</td>\n",
       "      <td>0.151596</td>\n",
       "      <td>0.117566</td>\n",
       "      <td>0.108695</td>\n",
       "      <td>0.291582</td>\n",
       "      <td>0.077983</td>\n",
       "      <td>0.304050</td>\n",
       "    </tr>\n",
       "    <tr>\n",
       "      <th>Euro</th>\n",
       "      <td>0.151596</td>\n",
       "      <td>1.000000</td>\n",
       "      <td>-0.645719</td>\n",
       "      <td>0.531150</td>\n",
       "      <td>-0.210587</td>\n",
       "      <td>0.331588</td>\n",
       "      <td>0.243851</td>\n",
       "    </tr>\n",
       "    <tr>\n",
       "      <th>Japanese Yen</th>\n",
       "      <td>0.117566</td>\n",
       "      <td>-0.645719</td>\n",
       "      <td>1.000000</td>\n",
       "      <td>-0.970308</td>\n",
       "      <td>0.210295</td>\n",
       "      <td>-0.582032</td>\n",
       "      <td>-0.270123</td>\n",
       "    </tr>\n",
       "    <tr>\n",
       "      <th>U.K. Pound Sterling</th>\n",
       "      <td>0.108695</td>\n",
       "      <td>0.531150</td>\n",
       "      <td>-0.970308</td>\n",
       "      <td>1.000000</td>\n",
       "      <td>-0.042303</td>\n",
       "      <td>0.579213</td>\n",
       "      <td>0.314681</td>\n",
       "    </tr>\n",
       "    <tr>\n",
       "      <th>U.S. Dollar</th>\n",
       "      <td>0.291582</td>\n",
       "      <td>-0.210587</td>\n",
       "      <td>0.210295</td>\n",
       "      <td>-0.042303</td>\n",
       "      <td>1.000000</td>\n",
       "      <td>0.607010</td>\n",
       "      <td>0.872862</td>\n",
       "    </tr>\n",
       "    <tr>\n",
       "      <th>Australian Dollar</th>\n",
       "      <td>0.077983</td>\n",
       "      <td>0.331588</td>\n",
       "      <td>-0.582032</td>\n",
       "      <td>0.579213</td>\n",
       "      <td>0.607010</td>\n",
       "      <td>1.000000</td>\n",
       "      <td>0.921475</td>\n",
       "    </tr>\n",
       "    <tr>\n",
       "      <th>Indian Rupee</th>\n",
       "      <td>0.304050</td>\n",
       "      <td>0.243851</td>\n",
       "      <td>-0.270123</td>\n",
       "      <td>0.314681</td>\n",
       "      <td>0.872862</td>\n",
       "      <td>0.921475</td>\n",
       "      <td>1.000000</td>\n",
       "    </tr>\n",
       "  </tbody>\n",
       "</table>\n",
       "</div>"
      ],
      "text/plain": [
       "                     Chinese Yuan      Euro  Japanese Yen  \\\n",
       "Chinese Yuan             1.000000  0.151596      0.117566   \n",
       "Euro                     0.151596  1.000000     -0.645719   \n",
       "Japanese Yen             0.117566 -0.645719      1.000000   \n",
       "U.K. Pound Sterling      0.108695  0.531150     -0.970308   \n",
       "U.S. Dollar              0.291582 -0.210587      0.210295   \n",
       "Australian Dollar        0.077983  0.331588     -0.582032   \n",
       "Indian Rupee             0.304050  0.243851     -0.270123   \n",
       "\n",
       "                     U.K. Pound Sterling  U.S. Dollar  Australian Dollar  \\\n",
       "Chinese Yuan                    0.108695     0.291582           0.077983   \n",
       "Euro                            0.531150    -0.210587           0.331588   \n",
       "Japanese Yen                   -0.970308     0.210295          -0.582032   \n",
       "U.K. Pound Sterling             1.000000    -0.042303           0.579213   \n",
       "U.S. Dollar                    -0.042303     1.000000           0.607010   \n",
       "Australian Dollar               0.579213     0.607010           1.000000   \n",
       "Indian Rupee                    0.314681     0.872862           0.921475   \n",
       "\n",
       "                     Indian Rupee  \n",
       "Chinese Yuan             0.304050  \n",
       "Euro                     0.243851  \n",
       "Japanese Yen            -0.270123  \n",
       "U.K. Pound Sterling      0.314681  \n",
       "U.S. Dollar              0.872862  \n",
       "Australian Dollar        0.921475  \n",
       "Indian Rupee             1.000000  "
      ]
     },
     "execution_count": 12,
     "metadata": {},
     "output_type": "execute_result"
    }
   ],
   "source": [
    "corr"
   ]
  },
  {
   "cell_type": "code",
   "execution_count": 14,
   "metadata": {},
   "outputs": [
    {
     "data": {
      "text/plain": [
       "<Axes: >"
      ]
     },
     "execution_count": 14,
     "metadata": {},
     "output_type": "execute_result"
    },
    {
     "data": {
      "image/png": "[encoded data removed]",
      "text/plain": [
       "<Figure size 640x480 with 2 Axes>"
      ]
     },
     "metadata": {},
     "output_type": "display_data"
    }
   ],
   "source": [
    "sns.heatmap(corr,cmap = \"Greens\", annot=True)"
   ]
  },
  {
   "cell_type": "code",
   "execution_count": null,
   "metadata": {},
   "outputs": [],
   "source": [
    "\"\"\" You want to understand the distribution of two variables — mother’s education and the number of siblings. Complete the following statement:\n",
    "\n",
    "Most children whose mothers are illiterate have: \"\"\""
   ]
  },
  {
   "cell_type": "code",
   "execution_count": 58,
   "metadata": {},
   "outputs": [],
   "source": [
    "nasdf=pd.read_csv(\"nas.csv\")"
   ]
  },
  {
   "cell_type": "code",
   "execution_count": 59,
   "metadata": {},
   "outputs": [
    {
     "data": {
      "text/plain": [
       "Index(['STUID', 'State', 'District', 'Gender', 'Age', 'Category',\n",
       "       'Same.language', 'Siblings', 'Handicap', 'Father.edu', 'Mother.edu',\n",
       "       'Father.occupation', 'Mother.occupation', 'Below.poverty',\n",
       "       'Use.calculator', 'Use.computer', 'Use.Internet', 'Use.dictionary',\n",
       "       'Read.other.books', 'X..Books', 'Distance', 'Computer.use',\n",
       "       'Library.use', 'Like.school', 'Subjects', 'Give.Lang.HW',\n",
       "       'Give.Math.HW', 'Give.Scie.HW', 'Give.SoSc.HW', 'Correct.Lang.HW',\n",
       "       'Correct.Math.HW', 'Correct.Scie.HW', 'Correct.SocS.HW',\n",
       "       'Help.in.Study', 'Private.tuition', 'English.is.difficult',\n",
       "       'Read.English', 'Dictionary.to.learn', 'Answer.English.WB',\n",
       "       'Answer.English.aloud', 'Maths.is.difficult', 'Solve.Maths',\n",
       "       'Solve.Maths.in.groups', 'Draw.geometry', 'Explain.answers',\n",
       "       'SocSci.is.difficult', 'Historical.excursions', 'Participate.in.SocSci',\n",
       "       'Small.groups.in.SocSci', 'Express.SocSci.views',\n",
       "       'Science.is.difficult', 'Observe.experiments', 'Conduct.experiments',\n",
       "       'Solve.science.problems', 'Express.science.views', 'Watch.TV',\n",
       "       'Read.magazine', 'Read.a.book', 'Play.games', 'Help.in.household',\n",
       "       'Maths..', 'Reading..', 'Science..', 'Social..'],\n",
       "      dtype='object')"
      ]
     },
     "execution_count": 59,
     "metadata": {},
     "output_type": "execute_result"
    }
   ],
   "source": [
    "nasdf.columns"
   ]
  },
  {
   "cell_type": "code",
   "execution_count": 60,
   "metadata": {},
   "outputs": [
    {
     "data": {
      "text/plain": [
       "STUID                   0\n",
       "State                   0\n",
       "District                0\n",
       "Gender                  2\n",
       "Age                   232\n",
       "                     ... \n",
       "Help.in.household      44\n",
       "Maths..              4611\n",
       "Reading..            4574\n",
       "Science..            4657\n",
       "Social..             4682\n",
       "Length: 64, dtype: int64"
      ]
     },
     "execution_count": 60,
     "metadata": {},
     "output_type": "execute_result"
    }
   ],
   "source": [
    "nasdf.isnull().sum()"
   ]
  },
  {
   "cell_type": "code",
   "execution_count": 61,
   "metadata": {},
   "outputs": [],
   "source": [
    "nasdf['siblingcount']=nasdf['Siblings'].apply(lambda x: x.split(' ')[0])\n",
    "nasdf['siblingcount']=nasdf['siblingcount'].apply(lambda x: x.replace('+',''))\n",
    "nasdf['siblingcount']=nasdf['siblingcount'].apply(lambda x: x.replace('Single','0'))"
   ]
  },
  {
   "cell_type": "code",
   "execution_count": 62,
   "metadata": {},
   "outputs": [],
   "source": [
    "nasdf['siblingcount']=nasdf['siblingcount'].astype(int)"
   ]
  },
  {
   "cell_type": "code",
   "execution_count": 63,
   "metadata": {},
   "outputs": [
    {
     "name": "stderr",
     "output_type": "stream",
     "text": [
      "C:\\Users\\suddkar\\AppData\\Local\\Temp\\ipykernel_31192\\869580687.py:1: FutureWarning: The provided callable <function median at 0x00000201F6DD63E0> is currently using SeriesGroupBy.median. In a future version of pandas, the provided callable will be used directly. To keep current behavior pass the string \"median\" instead.\n",
      "  nasdf.groupby(\"Mother.edu\").agg({'siblingcount':np.median}).plot.bar()\n"
     ]
    },
    {
     "data": {
      "text/plain": [
       "<Axes: xlabel='Mother.edu'>"
      ]
     },
     "execution_count": 63,
     "metadata": {},
     "output_type": "execute_result"
    },
    {
     "data": {
      "image/png": "[encoded data removed]",
      "text/plain": [
       "<Figure size 640x480 with 1 Axes>"
      ]
     },
     "metadata": {},
     "output_type": "display_data"
    }
   ],
   "source": [
    "nasdf.groupby(\"Mother.edu\").agg({'siblingcount':np.median}).plot.bar()"
   ]
  },
  {
   "cell_type": "code",
   "execution_count": 64,
   "metadata": {},
   "outputs": [
    {
     "data": {
      "text/plain": [
       "<Axes: xlabel='Mother.edu', ylabel='siblingcount'>"
      ]
     },
     "execution_count": 64,
     "metadata": {},
     "output_type": "execute_result"
    },
    {
     "data": {
      "image/png": "[encoded data removed]",
      "text/plain": [
       "<Figure size 640x480 with 1 Axes>"
      ]
     },
     "metadata": {},
     "output_type": "display_data"
    }
   ],
   "source": [
    "sns.boxplot(x=nasdf['Mother.edu'],y=nasdf['siblingcount'])"
   ]
  },
  {
   "cell_type": "code",
   "execution_count": 65,
   "metadata": {},
   "outputs": [
    {
     "data": {
      "text/plain": [
       "Index(['STUID', 'State', 'District', 'Gender', 'Age', 'Category',\n",
       "       'Same.language', 'Siblings', 'Handicap', 'Father.edu', 'Mother.edu',\n",
       "       'Father.occupation', 'Mother.occupation', 'Below.poverty',\n",
       "       'Use.calculator', 'Use.computer', 'Use.Internet', 'Use.dictionary',\n",
       "       'Read.other.books', 'X..Books', 'Distance', 'Computer.use',\n",
       "       'Library.use', 'Like.school', 'Subjects', 'Give.Lang.HW',\n",
       "       'Give.Math.HW', 'Give.Scie.HW', 'Give.SoSc.HW', 'Correct.Lang.HW',\n",
       "       'Correct.Math.HW', 'Correct.Scie.HW', 'Correct.SocS.HW',\n",
       "       'Help.in.Study', 'Private.tuition', 'English.is.difficult',\n",
       "       'Read.English', 'Dictionary.to.learn', 'Answer.English.WB',\n",
       "       'Answer.English.aloud', 'Maths.is.difficult', 'Solve.Maths',\n",
       "       'Solve.Maths.in.groups', 'Draw.geometry', 'Explain.answers',\n",
       "       'SocSci.is.difficult', 'Historical.excursions', 'Participate.in.SocSci',\n",
       "       'Small.groups.in.SocSci', 'Express.SocSci.views',\n",
       "       'Science.is.difficult', 'Observe.experiments', 'Conduct.experiments',\n",
       "       'Solve.science.problems', 'Express.science.views', 'Watch.TV',\n",
       "       'Read.magazine', 'Read.a.book', 'Play.games', 'Help.in.household',\n",
       "       'Maths..', 'Reading..', 'Science..', 'Social..', 'siblingcount'],\n",
       "      dtype='object')"
      ]
     },
     "execution_count": 65,
     "metadata": {},
     "output_type": "execute_result"
    }
   ],
   "source": [
    "nasdf.columns"
   ]
  },
  {
   "cell_type": "code",
   "execution_count": 66,
   "metadata": {},
   "outputs": [
    {
     "data": {
      "text/plain": [
       "' You also want to understand how the average science marks vary with the father’s education level and age.\\n Neglect the age group of 11 years since there are very few children in that segment. Mark the correct statement: '"
      ]
     },
     "execution_count": 66,
     "metadata": {},
     "output_type": "execute_result"
    }
   ],
   "source": [
    "\"\"\" You also want to understand how the average science marks vary with the father’s education level and age.\n",
    " Neglect the age group of 11 years since there are very few children in that segment. Mark the correct statement: \"\"\""
   ]
  },
  {
   "cell_type": "code",
   "execution_count": 67,
   "metadata": {},
   "outputs": [],
   "source": [
    "nasdf1=nasdf[~(nasdf[\"Father.edu\"].isnull())]"
   ]
  },
  {
   "cell_type": "code",
   "execution_count": 68,
   "metadata": {},
   "outputs": [],
   "source": [
    "nasdf1=nasdf1[~(nasdf1[\"Science..\"].isnull())]"
   ]
  },
  {
   "cell_type": "code",
   "execution_count": 70,
   "metadata": {},
   "outputs": [
    {
     "data": {
      "text/plain": [
       "0"
      ]
     },
     "execution_count": 70,
     "metadata": {},
     "output_type": "execute_result"
    }
   ],
   "source": [
    "nasdf1[\"Science..\"].isnull().sum()"
   ]
  },
  {
   "cell_type": "code",
   "execution_count": 71,
   "metadata": {},
   "outputs": [],
   "source": [
    "nasdf1=nasdf1[~(nasdf1[\"Age\"].isnull())]"
   ]
  },
  {
   "cell_type": "code",
   "execution_count": 72,
   "metadata": {},
   "outputs": [],
   "source": [
    "nasdf1[\"Age\"]=nasdf1[\"Age\"].apply(lambda x: x.split(' ')[0])"
   ]
  },
  {
   "cell_type": "code",
   "execution_count": 76,
   "metadata": {},
   "outputs": [],
   "source": [
    "nasdf1[\"Age\"]=nasdf1[\"Age\"].apply(lambda x: x.replace('+',''))"
   ]
  },
  {
   "cell_type": "code",
   "execution_count": 78,
   "metadata": {},
   "outputs": [],
   "source": [
    "nasdf1[\"Age\"]=nasdf1[\"Age\"].apply(lambda x: x.replace('-',''))"
   ]
  },
  {
   "cell_type": "code",
   "execution_count": 79,
   "metadata": {},
   "outputs": [],
   "source": [
    "nasdf1[\"Age\"]=nasdf1[\"Age\"].astype(int)"
   ]
  },
  {
   "cell_type": "code",
   "execution_count": 82,
   "metadata": {},
   "outputs": [
    {
     "name": "stderr",
     "output_type": "stream",
     "text": [
      "C:\\Users\\suddkar\\AppData\\Local\\Temp\\ipykernel_31192\\955465873.py:1: FutureWarning: The provided callable <function median at 0x00000201F6DD63E0> is currently using SeriesGroupBy.median. In a future version of pandas, the provided callable will be used directly. To keep current behavior pass the string \"median\" instead.\n",
      "  nasdf1.groupby(\"Father.edu\").agg({'Science..':np.median,'Age':np.median})\n",
      "C:\\Users\\suddkar\\AppData\\Local\\Temp\\ipykernel_31192\\955465873.py:1: FutureWarning: The provided callable <function median at 0x00000201F6DD63E0> is currently using SeriesGroupBy.median. In a future version of pandas, the provided callable will be used directly. To keep current behavior pass the string \"median\" instead.\n",
      "  nasdf1.groupby(\"Father.edu\").agg({'Science..':np.median,'Age':np.median})\n"
     ]
    },
    {
     "data": {
      "text/html": [
       "<div>\n",
       "<style scoped>\n",
       "    .dataframe tbody tr th:only-of-type {\n",
       "        vertical-align: middle;\n",
       "    }\n",
       "\n",
       "    .dataframe tbody tr th {\n",
       "        vertical-align: top;\n",
       "    }\n",
       "\n",
       "    .dataframe thead th {\n",
       "        text-align: right;\n",
       "    }\n",
       "</style>\n",
       "<table border=\"1\" class=\"dataframe\">\n",
       "  <thead>\n",
       "    <tr style=\"text-align: right;\">\n",
       "      <th></th>\n",
       "      <th>Science..</th>\n",
       "      <th>Age</th>\n",
       "    </tr>\n",
       "    <tr>\n",
       "      <th>Father.edu</th>\n",
       "      <th></th>\n",
       "      <th></th>\n",
       "    </tr>\n",
       "  </thead>\n",
       "  <tbody>\n",
       "    <tr>\n",
       "      <th>Degree &amp; above</th>\n",
       "      <td>43.64</td>\n",
       "      <td>13.0</td>\n",
       "    </tr>\n",
       "    <tr>\n",
       "      <th>Illiterate</th>\n",
       "      <td>32.73</td>\n",
       "      <td>14.0</td>\n",
       "    </tr>\n",
       "    <tr>\n",
       "      <th>Primary</th>\n",
       "      <td>34.55</td>\n",
       "      <td>14.0</td>\n",
       "    </tr>\n",
       "    <tr>\n",
       "      <th>Secondary</th>\n",
       "      <td>34.55</td>\n",
       "      <td>14.0</td>\n",
       "    </tr>\n",
       "    <tr>\n",
       "      <th>Sr secondary</th>\n",
       "      <td>37.27</td>\n",
       "      <td>14.0</td>\n",
       "    </tr>\n",
       "  </tbody>\n",
       "</table>\n",
       "</div>"
      ],
      "text/plain": [
       "                Science..   Age\n",
       "Father.edu                     \n",
       "Degree & above      43.64  13.0\n",
       "Illiterate          32.73  14.0\n",
       "Primary             34.55  14.0\n",
       "Secondary           34.55  14.0\n",
       "Sr secondary        37.27  14.0"
      ]
     },
     "execution_count": 82,
     "metadata": {},
     "output_type": "execute_result"
    }
   ],
   "source": [
    "nasdf1.groupby(\"Father.edu\").agg({'Science..':np.median,'Age':np.median})"
   ]
  },
  {
   "cell_type": "code",
   "execution_count": 91,
   "metadata": {},
   "outputs": [
    {
     "data": {
      "text/html": [
       "<div>\n",
       "<style scoped>\n",
       "    .dataframe tbody tr th:only-of-type {\n",
       "        vertical-align: middle;\n",
       "    }\n",
       "\n",
       "    .dataframe tbody tr th {\n",
       "        vertical-align: top;\n",
       "    }\n",
       "\n",
       "    .dataframe thead th {\n",
       "        text-align: right;\n",
       "    }\n",
       "</style>\n",
       "<table border=\"1\" class=\"dataframe\">\n",
       "  <thead>\n",
       "    <tr style=\"text-align: right;\">\n",
       "      <th></th>\n",
       "      <th>Science..</th>\n",
       "    </tr>\n",
       "    <tr>\n",
       "      <th>Father.edu</th>\n",
       "      <th></th>\n",
       "    </tr>\n",
       "  </thead>\n",
       "  <tbody>\n",
       "    <tr>\n",
       "      <th>Degree &amp; above</th>\n",
       "      <td>43.696623</td>\n",
       "    </tr>\n",
       "    <tr>\n",
       "      <th>Illiterate</th>\n",
       "      <td>34.388565</td>\n",
       "    </tr>\n",
       "    <tr>\n",
       "      <th>Primary</th>\n",
       "      <td>36.651881</td>\n",
       "    </tr>\n",
       "    <tr>\n",
       "      <th>Secondary</th>\n",
       "      <td>36.611674</td>\n",
       "    </tr>\n",
       "    <tr>\n",
       "      <th>Sr secondary</th>\n",
       "      <td>38.946803</td>\n",
       "    </tr>\n",
       "  </tbody>\n",
       "</table>\n",
       "</div>"
      ],
      "text/plain": [
       "                Science..\n",
       "Father.edu               \n",
       "Degree & above  43.696623\n",
       "Illiterate      34.388565\n",
       "Primary         36.651881\n",
       "Secondary       36.611674\n",
       "Sr secondary    38.946803"
      ]
     },
     "execution_count": 91,
     "metadata": {},
     "output_type": "execute_result"
    }
   ],
   "source": [
    "nasdf1.pivot_table(['Science..'],['Father.edu'],aggfunc = 'mean')"
   ]
  },
  {
   "cell_type": "code",
   "execution_count": 92,
   "metadata": {},
   "outputs": [
    {
     "data": {
      "text/html": [
       "<div>\n",
       "<style scoped>\n",
       "    .dataframe tbody tr th:only-of-type {\n",
       "        vertical-align: middle;\n",
       "    }\n",
       "\n",
       "    .dataframe tbody tr th {\n",
       "        vertical-align: top;\n",
       "    }\n",
       "\n",
       "    .dataframe thead th {\n",
       "        text-align: right;\n",
       "    }\n",
       "</style>\n",
       "<table border=\"1\" class=\"dataframe\">\n",
       "  <thead>\n",
       "    <tr style=\"text-align: right;\">\n",
       "      <th></th>\n",
       "      <th>Science..</th>\n",
       "    </tr>\n",
       "    <tr>\n",
       "      <th>Age</th>\n",
       "      <th></th>\n",
       "    </tr>\n",
       "  </thead>\n",
       "  <tbody>\n",
       "    <tr>\n",
       "      <th>11</th>\n",
       "      <td>39.091667</td>\n",
       "    </tr>\n",
       "    <tr>\n",
       "      <th>12</th>\n",
       "      <td>34.224077</td>\n",
       "    </tr>\n",
       "    <tr>\n",
       "      <th>13</th>\n",
       "      <td>37.588436</td>\n",
       "    </tr>\n",
       "    <tr>\n",
       "      <th>14</th>\n",
       "      <td>36.799161</td>\n",
       "    </tr>\n",
       "    <tr>\n",
       "      <th>15</th>\n",
       "      <td>34.122557</td>\n",
       "    </tr>\n",
       "    <tr>\n",
       "      <th>16</th>\n",
       "      <td>32.055856</td>\n",
       "    </tr>\n",
       "  </tbody>\n",
       "</table>\n",
       "</div>"
      ],
      "text/plain": [
       "     Science..\n",
       "Age           \n",
       "11   39.091667\n",
       "12   34.224077\n",
       "13   37.588436\n",
       "14   36.799161\n",
       "15   34.122557\n",
       "16   32.055856"
      ]
     },
     "execution_count": 92,
     "metadata": {},
     "output_type": "execute_result"
    }
   ],
   "source": [
    "nasdf1.pivot_table(['Science..'],['Age'],aggfunc = 'mean')"
   ]
  }
 ],
 "metadata": {
  "kernelspec": {
   "display_name": "Python 3",
   "language": "python",
   "name": "python3"
  },
  "language_info": {
   "codemirror_mode": {
    "name": "ipython",
    "version": 3
   },
   "file_extension": ".py",
   "mimetype": "text/x-python",
   "name": "python",
   "nbconvert_exporter": "python",
   "pygments_lexer": "ipython3",
   "version": "3.11.9"
  }
 },
 "nbformat": 4,
 "nbformat_minor": 2
}
