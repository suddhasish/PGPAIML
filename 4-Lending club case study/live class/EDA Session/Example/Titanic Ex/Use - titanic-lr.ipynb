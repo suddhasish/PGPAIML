{
 "cells": [
  {
   "cell_type": "code",
   "execution_count": 1,
   "metadata": {
    "_cell_guid": "20c371ba-aeb6-49bc-bf09-71c365aa4f41",
    "_uuid": "9a40c6415d8bdd9b236b12ea2de477137f990e68",
    "execution": {
     "iopub.execute_input": "2021-09-04T12:13:54.334938Z",
     "iopub.status.busy": "2021-09-04T12:13:54.334392Z",
     "iopub.status.idle": "2021-09-04T12:13:55.867762Z",
     "shell.execute_reply": "2021-09-04T12:13:55.867128Z",
     "shell.execute_reply.started": "2021-09-04T12:13:54.334877Z"
    }
   },
   "outputs": [],
   "source": [
    "import pandas as pd\n",
    "import numpy as np\n",
    "import matplotlib.pyplot as plt\n",
    "import seaborn as sns\n",
    "%matplotlib inline"
   ]
  },
  {
   "cell_type": "code",
   "execution_count": 2,
   "metadata": {
    "_cell_guid": "a82d53e7-d882-47d4-85e2-34ce1bbcda27",
    "_uuid": "0753958f3b758917ccfd000322db39d5182029e6",
    "execution": {
     "iopub.execute_input": "2021-09-04T12:13:57.760917Z",
     "iopub.status.busy": "2021-09-04T12:13:57.760499Z",
     "iopub.status.idle": "2021-09-04T12:13:57.784827Z",
     "shell.execute_reply": "2021-09-04T12:13:57.784255Z",
     "shell.execute_reply.started": "2021-09-04T12:13:57.760878Z"
    }
   },
   "outputs": [],
   "source": [
    "train = pd.read_csv('train.csv')\n",
    "test = pd.read_csv('test.csv')"
   ]
  },
  {
   "cell_type": "code",
   "execution_count": 3,
   "metadata": {
    "_cell_guid": "7c941819-234e-4fea-b315-6359933e97e0",
    "_uuid": "d5c9333579de65461d5a4f96cbb035262e2a6886",
    "execution": {
     "iopub.execute_input": "2021-09-04T12:13:58.877753Z",
     "iopub.status.busy": "2021-09-04T12:13:58.877190Z",
     "iopub.status.idle": "2021-09-04T12:13:58.900873Z",
     "shell.execute_reply": "2021-09-04T12:13:58.900257Z",
     "shell.execute_reply.started": "2021-09-04T12:13:58.877690Z"
    }
   },
   "outputs": [
    {
     "data": {
      "text/html": [
       "<div>\n",
       "<style scoped>\n",
       "    .dataframe tbody tr th:only-of-type {\n",
       "        vertical-align: middle;\n",
       "    }\n",
       "\n",
       "    .dataframe tbody tr th {\n",
       "        vertical-align: top;\n",
       "    }\n",
       "\n",
       "    .dataframe thead th {\n",
       "        text-align: right;\n",
       "    }\n",
       "</style>\n",
       "<table border=\"1\" class=\"dataframe\">\n",
       "  <thead>\n",
       "    <tr style=\"text-align: right;\">\n",
       "      <th></th>\n",
       "      <th>PassengerId</th>\n",
       "      <th>Survived</th>\n",
       "      <th>Pclass</th>\n",
       "      <th>Name</th>\n",
       "      <th>Sex</th>\n",
       "      <th>Age</th>\n",
       "      <th>SibSp</th>\n",
       "      <th>Parch</th>\n",
       "      <th>Ticket</th>\n",
       "      <th>Fare</th>\n",
       "      <th>Cabin</th>\n",
       "      <th>Embarked</th>\n",
       "    </tr>\n",
       "  </thead>\n",
       "  <tbody>\n",
       "    <tr>\n",
       "      <th>0</th>\n",
       "      <td>1</td>\n",
       "      <td>0</td>\n",
       "      <td>3</td>\n",
       "      <td>Braund, Mr. Owen Harris</td>\n",
       "      <td>male</td>\n",
       "      <td>22.0</td>\n",
       "      <td>1</td>\n",
       "      <td>0</td>\n",
       "      <td>A/5 21171</td>\n",
       "      <td>7.2500</td>\n",
       "      <td>NaN</td>\n",
       "      <td>S</td>\n",
       "    </tr>\n",
       "    <tr>\n",
       "      <th>1</th>\n",
       "      <td>2</td>\n",
       "      <td>1</td>\n",
       "      <td>1</td>\n",
       "      <td>Cumings, Mrs. John Bradley (Florence Briggs Th...</td>\n",
       "      <td>female</td>\n",
       "      <td>38.0</td>\n",
       "      <td>1</td>\n",
       "      <td>0</td>\n",
       "      <td>PC 17599</td>\n",
       "      <td>71.2833</td>\n",
       "      <td>C85</td>\n",
       "      <td>C</td>\n",
       "    </tr>\n",
       "    <tr>\n",
       "      <th>2</th>\n",
       "      <td>3</td>\n",
       "      <td>1</td>\n",
       "      <td>3</td>\n",
       "      <td>Heikkinen, Miss. Laina</td>\n",
       "      <td>female</td>\n",
       "      <td>26.0</td>\n",
       "      <td>0</td>\n",
       "      <td>0</td>\n",
       "      <td>STON/O2. 3101282</td>\n",
       "      <td>7.9250</td>\n",
       "      <td>NaN</td>\n",
       "      <td>S</td>\n",
       "    </tr>\n",
       "    <tr>\n",
       "      <th>3</th>\n",
       "      <td>4</td>\n",
       "      <td>1</td>\n",
       "      <td>1</td>\n",
       "      <td>Futrelle, Mrs. Jacques Heath (Lily May Peel)</td>\n",
       "      <td>female</td>\n",
       "      <td>35.0</td>\n",
       "      <td>1</td>\n",
       "      <td>0</td>\n",
       "      <td>113803</td>\n",
       "      <td>53.1000</td>\n",
       "      <td>C123</td>\n",
       "      <td>S</td>\n",
       "    </tr>\n",
       "    <tr>\n",
       "      <th>4</th>\n",
       "      <td>5</td>\n",
       "      <td>0</td>\n",
       "      <td>3</td>\n",
       "      <td>Allen, Mr. William Henry</td>\n",
       "      <td>male</td>\n",
       "      <td>35.0</td>\n",
       "      <td>0</td>\n",
       "      <td>0</td>\n",
       "      <td>373450</td>\n",
       "      <td>8.0500</td>\n",
       "      <td>NaN</td>\n",
       "      <td>S</td>\n",
       "    </tr>\n",
       "  </tbody>\n",
       "</table>\n",
       "</div>"
      ],
      "text/plain": [
       "   PassengerId  Survived  Pclass  \\\n",
       "0            1         0       3   \n",
       "1            2         1       1   \n",
       "2            3         1       3   \n",
       "3            4         1       1   \n",
       "4            5         0       3   \n",
       "\n",
       "                                                Name     Sex   Age  SibSp  \\\n",
       "0                            Braund, Mr. Owen Harris    male  22.0      1   \n",
       "1  Cumings, Mrs. John Bradley (Florence Briggs Th...  female  38.0      1   \n",
       "2                             Heikkinen, Miss. Laina  female  26.0      0   \n",
       "3       Futrelle, Mrs. Jacques Heath (Lily May Peel)  female  35.0      1   \n",
       "4                           Allen, Mr. William Henry    male  35.0      0   \n",
       "\n",
       "   Parch            Ticket     Fare Cabin Embarked  \n",
       "0      0         A/5 21171   7.2500   NaN        S  \n",
       "1      0          PC 17599  71.2833   C85        C  \n",
       "2      0  STON/O2. 3101282   7.9250   NaN        S  \n",
       "3      0            113803  53.1000  C123        S  \n",
       "4      0            373450   8.0500   NaN        S  "
      ]
     },
     "execution_count": 3,
     "metadata": {},
     "output_type": "execute_result"
    }
   ],
   "source": [
    "train.head()"
   ]
  },
  {
   "cell_type": "code",
   "execution_count": 4,
   "metadata": {
    "_cell_guid": "98591d5b-875b-43f3-b82e-ba7c5d208217",
    "_uuid": "09b2dc10b2aeff11deba5fa9b7618aa19a6a0d76",
    "execution": {
     "iopub.execute_input": "2021-09-04T12:13:59.054463Z",
     "iopub.status.busy": "2021-09-04T12:13:59.054016Z",
     "iopub.status.idle": "2021-09-04T12:13:59.070425Z",
     "shell.execute_reply": "2021-09-04T12:13:59.069722Z",
     "shell.execute_reply.started": "2021-09-04T12:13:59.054410Z"
    }
   },
   "outputs": [
    {
     "data": {
      "text/html": [
       "<div>\n",
       "<style scoped>\n",
       "    .dataframe tbody tr th:only-of-type {\n",
       "        vertical-align: middle;\n",
       "    }\n",
       "\n",
       "    .dataframe tbody tr th {\n",
       "        vertical-align: top;\n",
       "    }\n",
       "\n",
       "    .dataframe thead th {\n",
       "        text-align: right;\n",
       "    }\n",
       "</style>\n",
       "<table border=\"1\" class=\"dataframe\">\n",
       "  <thead>\n",
       "    <tr style=\"text-align: right;\">\n",
       "      <th></th>\n",
       "      <th>PassengerId</th>\n",
       "      <th>Pclass</th>\n",
       "      <th>Name</th>\n",
       "      <th>Sex</th>\n",
       "      <th>Age</th>\n",
       "      <th>SibSp</th>\n",
       "      <th>Parch</th>\n",
       "      <th>Ticket</th>\n",
       "      <th>Fare</th>\n",
       "      <th>Cabin</th>\n",
       "      <th>Embarked</th>\n",
       "    </tr>\n",
       "  </thead>\n",
       "  <tbody>\n",
       "    <tr>\n",
       "      <th>0</th>\n",
       "      <td>892</td>\n",
       "      <td>3</td>\n",
       "      <td>Kelly, Mr. James</td>\n",
       "      <td>male</td>\n",
       "      <td>34.5</td>\n",
       "      <td>0</td>\n",
       "      <td>0</td>\n",
       "      <td>330911</td>\n",
       "      <td>7.8292</td>\n",
       "      <td>NaN</td>\n",
       "      <td>Q</td>\n",
       "    </tr>\n",
       "    <tr>\n",
       "      <th>1</th>\n",
       "      <td>893</td>\n",
       "      <td>3</td>\n",
       "      <td>Wilkes, Mrs. James (Ellen Needs)</td>\n",
       "      <td>female</td>\n",
       "      <td>47.0</td>\n",
       "      <td>1</td>\n",
       "      <td>0</td>\n",
       "      <td>363272</td>\n",
       "      <td>7.0000</td>\n",
       "      <td>NaN</td>\n",
       "      <td>S</td>\n",
       "    </tr>\n",
       "    <tr>\n",
       "      <th>2</th>\n",
       "      <td>894</td>\n",
       "      <td>2</td>\n",
       "      <td>Myles, Mr. Thomas Francis</td>\n",
       "      <td>male</td>\n",
       "      <td>62.0</td>\n",
       "      <td>0</td>\n",
       "      <td>0</td>\n",
       "      <td>240276</td>\n",
       "      <td>9.6875</td>\n",
       "      <td>NaN</td>\n",
       "      <td>Q</td>\n",
       "    </tr>\n",
       "    <tr>\n",
       "      <th>3</th>\n",
       "      <td>895</td>\n",
       "      <td>3</td>\n",
       "      <td>Wirz, Mr. Albert</td>\n",
       "      <td>male</td>\n",
       "      <td>27.0</td>\n",
       "      <td>0</td>\n",
       "      <td>0</td>\n",
       "      <td>315154</td>\n",
       "      <td>8.6625</td>\n",
       "      <td>NaN</td>\n",
       "      <td>S</td>\n",
       "    </tr>\n",
       "    <tr>\n",
       "      <th>4</th>\n",
       "      <td>896</td>\n",
       "      <td>3</td>\n",
       "      <td>Hirvonen, Mrs. Alexander (Helga E Lindqvist)</td>\n",
       "      <td>female</td>\n",
       "      <td>22.0</td>\n",
       "      <td>1</td>\n",
       "      <td>1</td>\n",
       "      <td>3101298</td>\n",
       "      <td>12.2875</td>\n",
       "      <td>NaN</td>\n",
       "      <td>S</td>\n",
       "    </tr>\n",
       "  </tbody>\n",
       "</table>\n",
       "</div>"
      ],
      "text/plain": [
       "   PassengerId  Pclass                                          Name     Sex  \\\n",
       "0          892       3                              Kelly, Mr. James    male   \n",
       "1          893       3              Wilkes, Mrs. James (Ellen Needs)  female   \n",
       "2          894       2                     Myles, Mr. Thomas Francis    male   \n",
       "3          895       3                              Wirz, Mr. Albert    male   \n",
       "4          896       3  Hirvonen, Mrs. Alexander (Helga E Lindqvist)  female   \n",
       "\n",
       "    Age  SibSp  Parch   Ticket     Fare Cabin Embarked  \n",
       "0  34.5      0      0   330911   7.8292   NaN        Q  \n",
       "1  47.0      1      0   363272   7.0000   NaN        S  \n",
       "2  62.0      0      0   240276   9.6875   NaN        Q  \n",
       "3  27.0      0      0   315154   8.6625   NaN        S  \n",
       "4  22.0      1      1  3101298  12.2875   NaN        S  "
      ]
     },
     "execution_count": 4,
     "metadata": {},
     "output_type": "execute_result"
    }
   ],
   "source": [
    "test.head()"
   ]
  },
  {
   "cell_type": "markdown",
   "metadata": {
    "_cell_guid": "1ea9cc82-30a6-46a0-9aca-b22a3a2c3cda",
    "_uuid": "4035d465d8d52c5e8ddfdd77574ce782fa210e9a"
   },
   "source": [
    "# EDA"
   ]
  },
  {
   "cell_type": "code",
   "execution_count": 5,
   "metadata": {
    "_cell_guid": "9342d0bb-88e3-4fd2-ad2d-311af3eaa946",
    "_uuid": "efaf10a5958a36fcda52327ab1069d61d4a492b9",
    "execution": {
     "iopub.execute_input": "2021-09-04T12:13:59.407150Z",
     "iopub.status.busy": "2021-09-04T12:13:59.406856Z",
     "iopub.status.idle": "2021-09-04T12:13:59.638387Z",
     "shell.execute_reply": "2021-09-04T12:13:59.637848Z",
     "shell.execute_reply.started": "2021-09-04T12:13:59.407108Z"
    }
   },
   "outputs": [
    {
     "data": {
      "text/plain": [
       "<AxesSubplot:>"
      ]
     },
     "execution_count": 5,
     "metadata": {},
     "output_type": "execute_result"
    },
    {
     "data": {
      "image/png": "[encoded data removed]",
      "text/plain": [
       "<Figure size 432x288 with 1 Axes>"
      ]
     },
     "metadata": {
      "needs_background": "light"
     },
     "output_type": "display_data"
    }
   ],
   "source": [
    "sns.heatmap(train.isnull(),yticklabels=False,cbar=False,cmap='viridis')"
   ]
  },
  {
   "cell_type": "markdown",
   "metadata": {
    "_cell_guid": "d04e1e6f-e763-4b56-a2da-f8623fbb46c0",
    "_uuid": "c1ec196fc72d2f2bf325683ec3291acb7ffabab4"
   },
   "source": [
    "From above figure we can see that roughly20 percent of the Age data is missing. We can use a function to fill the age data. The Cabin column missing a lot of data so we can drop that column. The problem with missing data is our model will not take such input.\n",
    "\n",
    "*Let's visualize some more data! Get familiar with the data....*"
   ]
  },
  {
   "cell_type": "code",
   "execution_count": 6,
   "metadata": {
    "_cell_guid": "b0faa54d-2d58-43eb-be8e-c51f5dd0f3c7",
    "_uuid": "5898f5a0070f89781ed773ca22cacf19655b2705",
    "execution": {
     "iopub.execute_input": "2021-09-04T12:13:59.726530Z",
     "iopub.status.busy": "2021-09-04T12:13:59.726150Z",
     "iopub.status.idle": "2021-09-04T12:13:59.852758Z",
     "shell.execute_reply": "2021-09-04T12:13:59.852093Z",
     "shell.execute_reply.started": "2021-09-04T12:13:59.726493Z"
    },
    "scrolled": true
   },
   "outputs": [
    {
     "data": {
      "text/plain": [
       "<AxesSubplot:xlabel='Survived', ylabel='count'>"
      ]
     },
     "execution_count": 6,
     "metadata": {},
     "output_type": "execute_result"
    },
    {
     "data": {
      "image/png": "[encoded data removed]",
      "text/plain": [
       "<Figure size 864x504 with 1 Axes>"
      ]
     },
     "metadata": {
      "needs_background": "light"
     },
     "output_type": "display_data"
    }
   ],
   "source": [
    "plt.figure(figsize=(12, 7))\n",
    "sns.countplot(x='Survived',data=train,palette='RdBu_r')"
   ]
  },
  {
   "cell_type": "code",
   "execution_count": 7,
   "metadata": {
    "_cell_guid": "39ef9457-47f5-4d4f-92e7-6fc0a8af90d6",
    "_uuid": "f671d3572961887d427d7296d397900f6fe2c0ab",
    "execution": {
     "iopub.execute_input": "2021-09-04T12:13:59.989486Z",
     "iopub.status.busy": "2021-09-04T12:13:59.989183Z",
     "iopub.status.idle": "2021-09-04T12:14:00.134267Z",
     "shell.execute_reply": "2021-09-04T12:14:00.133575Z",
     "shell.execute_reply.started": "2021-09-04T12:13:59.989428Z"
    }
   },
   "outputs": [
    {
     "data": {
      "text/plain": [
       "<AxesSubplot:xlabel='Survived', ylabel='count'>"
      ]
     },
     "execution_count": 7,
     "metadata": {},
     "output_type": "execute_result"
    },
    {
     "data": {
      "image/png": "[encoded data removed]",
      "text/plain": [
       "<Figure size 864x504 with 1 Axes>"
      ]
     },
     "metadata": {
      "needs_background": "light"
     },
     "output_type": "display_data"
    }
   ],
   "source": [
    "plt.figure(figsize=(12, 7))\n",
    "sns.countplot(x='Survived',hue='Sex',data=train,palette='RdBu_r')"
   ]
  },
  {
   "cell_type": "code",
   "execution_count": 8,
   "metadata": {
    "_cell_guid": "c492de9b-8c0d-4393-a680-608c0d6ac07c",
    "_uuid": "0f09cb725d81178cde6520d96e1e3c2cefe229d2",
    "execution": {
     "iopub.execute_input": "2021-09-04T12:14:00.135690Z",
     "iopub.status.busy": "2021-09-04T12:14:00.135373Z",
     "iopub.status.idle": "2021-09-04T12:14:00.297066Z",
     "shell.execute_reply": "2021-09-04T12:14:00.296430Z",
     "shell.execute_reply.started": "2021-09-04T12:14:00.135634Z"
    }
   },
   "outputs": [
    {
     "data": {
      "text/plain": [
       "<AxesSubplot:xlabel='Survived', ylabel='count'>"
      ]
     },
     "execution_count": 8,
     "metadata": {},
     "output_type": "execute_result"
    },
    {
     "data": {
      "image/png": "[encoded data removed]",
      "text/plain": [
       "<Figure size 864x504 with 1 Axes>"
      ]
     },
     "metadata": {
      "needs_background": "light"
     },
     "output_type": "display_data"
    }
   ],
   "source": [
    "plt.figure(figsize=(12, 7))\n",
    "sns.countplot(x='Survived',hue='Pclass',data=train,palette='rainbow')"
   ]
  },
  {
   "cell_type": "code",
   "execution_count": 9,
   "metadata": {
    "_cell_guid": "67f29bc0-3d94-4196-b66c-069e959d7a5f",
    "_uuid": "92b43d5b491a9ab761a4d3af6069608dafe1cc8e",
    "execution": {
     "iopub.execute_input": "2021-09-04T12:14:00.303592Z",
     "iopub.status.busy": "2021-09-04T12:14:00.303254Z",
     "iopub.status.idle": "2021-09-04T12:14:00.316309Z",
     "shell.execute_reply": "2021-09-04T12:14:00.315538Z",
     "shell.execute_reply.started": "2021-09-04T12:14:00.303554Z"
    }
   },
   "outputs": [
    {
     "name": "stdout",
     "output_type": "stream",
     "text": [
      "<class 'pandas.core.frame.DataFrame'>\n",
      "RangeIndex: 891 entries, 0 to 890\n",
      "Data columns (total 12 columns):\n",
      " #   Column       Non-Null Count  Dtype  \n",
      "---  ------       --------------  -----  \n",
      " 0   PassengerId  891 non-null    int64  \n",
      " 1   Survived     891 non-null    int64  \n",
      " 2   Pclass       891 non-null    int64  \n",
      " 3   Name         891 non-null    object \n",
      " 4   Sex          891 non-null    object \n",
      " 5   Age          714 non-null    float64\n",
      " 6   SibSp        891 non-null    int64  \n",
      " 7   Parch        891 non-null    int64  \n",
      " 8   Ticket       891 non-null    object \n",
      " 9   Fare         891 non-null    float64\n",
      " 10  Cabin        204 non-null    object \n",
      " 11  Embarked     889 non-null    object \n",
      "dtypes: float64(2), int64(5), object(5)\n",
      "memory usage: 83.7+ KB\n",
      "***************************************************************\n",
      "<class 'pandas.core.frame.DataFrame'>\n",
      "RangeIndex: 418 entries, 0 to 417\n",
      "Data columns (total 11 columns):\n",
      " #   Column       Non-Null Count  Dtype  \n",
      "---  ------       --------------  -----  \n",
      " 0   PassengerId  418 non-null    int64  \n",
      " 1   Pclass       418 non-null    int64  \n",
      " 2   Name         418 non-null    object \n",
      " 3   Sex          418 non-null    object \n",
      " 4   Age          332 non-null    float64\n",
      " 5   SibSp        418 non-null    int64  \n",
      " 6   Parch        418 non-null    int64  \n",
      " 7   Ticket       418 non-null    object \n",
      " 8   Fare         417 non-null    float64\n",
      " 9   Cabin        91 non-null     object \n",
      " 10  Embarked     418 non-null    object \n",
      "dtypes: float64(2), int64(4), object(5)\n",
      "memory usage: 36.0+ KB\n"
     ]
    }
   ],
   "source": [
    "train.info()\n",
    "print(\"***************************************************************\")\n",
    "test.info()"
   ]
  },
  {
   "cell_type": "code",
   "execution_count": 10,
   "metadata": {
    "_cell_guid": "b6772c65-c4a8-4437-8560-fd37f4e59298",
    "_uuid": "8982ec46b8d3b4c39a3af4a04ca89bd6e93e33de",
    "execution": {
     "iopub.execute_input": "2021-09-04T12:14:00.358062Z",
     "iopub.status.busy": "2021-09-04T12:14:00.357761Z",
     "iopub.status.idle": "2021-09-04T12:14:00.521440Z",
     "shell.execute_reply": "2021-09-04T12:14:00.520736Z",
     "shell.execute_reply.started": "2021-09-04T12:14:00.358008Z"
    }
   },
   "outputs": [
    {
     "data": {
      "text/plain": [
       "<AxesSubplot:xlabel='Pclass', ylabel='Age'>"
      ]
     },
     "execution_count": 10,
     "metadata": {},
     "output_type": "execute_result"
    },
    {
     "data": {
      "image/png": "[encoded data removed]",
      "text/plain": [
       "<Figure size 864x504 with 1 Axes>"
      ]
     },
     "metadata": {
      "needs_background": "light"
     },
     "output_type": "display_data"
    }
   ],
   "source": [
    "plt.figure(figsize=(12, 7))\n",
    "sns.boxplot(x='Pclass',y='Age',data=train,palette='winter')"
   ]
  },
  {
   "cell_type": "code",
   "execution_count": 11,
   "metadata": {
    "_cell_guid": "54c66d22-f812-4815-80f1-10cba1baf50b",
    "_uuid": "38968122282e4ba73662dff9cb6a1a8056040eb1",
    "execution": {
     "iopub.execute_input": "2021-09-04T12:14:00.522933Z",
     "iopub.status.busy": "2021-09-04T12:14:00.522596Z",
     "iopub.status.idle": "2021-09-04T12:14:00.676937Z",
     "shell.execute_reply": "2021-09-04T12:14:00.676427Z",
     "shell.execute_reply.started": "2021-09-04T12:14:00.522855Z"
    }
   },
   "outputs": [
    {
     "data": {
      "text/plain": [
       "<AxesSubplot:xlabel='Pclass', ylabel='Age'>"
      ]
     },
     "execution_count": 11,
     "metadata": {},
     "output_type": "execute_result"
    },
    {
     "data": {
      "image/png": "[encoded data removed]",
      "text/plain": [
       "<Figure size 864x504 with 1 Axes>"
      ]
     },
     "metadata": {
      "needs_background": "light"
     },
     "output_type": "display_data"
    }
   ],
   "source": [
    "plt.figure(figsize=(12, 7))\n",
    "sns.boxplot(x='Pclass',y='Age',data=test,palette='winter')"
   ]
  },
  {
   "cell_type": "markdown",
   "metadata": {
    "_cell_guid": "b6a47496-4e8d-43e0-9bc9-7ff69d08b51f",
    "_uuid": "5159a3313cb15b0157c6d9f7be2be2ab74d4ad7f"
   },
   "source": [
    "# **Drop unnecessary Columns**\n"
   ]
  },
  {
   "cell_type": "code",
   "execution_count": 12,
   "metadata": {
    "_cell_guid": "888c1e17-e894-4ff9-b1e7-a16691ab6ece",
    "_uuid": "151b7797499d2fc86012fd893e01c4f92005bf70",
    "execution": {
     "iopub.execute_input": "2021-09-04T12:14:00.797918Z",
     "iopub.status.busy": "2021-09-04T12:14:00.797443Z",
     "iopub.status.idle": "2021-09-04T12:14:00.806891Z",
     "shell.execute_reply": "2021-09-04T12:14:00.806200Z",
     "shell.execute_reply.started": "2021-09-04T12:14:00.797872Z"
    }
   },
   "outputs": [],
   "source": [
    "train= train.drop(['PassengerId','Name','Ticket'], axis=1)\n",
    "test= test.drop(['Name','Ticket'], axis=1)"
   ]
  },
  {
   "cell_type": "markdown",
   "metadata": {
    "_cell_guid": "14c87035-46fe-465b-906f-f588b90e6add",
    "_uuid": "6fbe849a7da4bb78d22deaa92e6b22456f1292cf"
   },
   "source": [
    "# **Converting Categorical Features **\n"
   ]
  },
  {
   "cell_type": "markdown",
   "metadata": {
    "_cell_guid": "038e0dbf-3de1-460f-aa72-7a00b435e1d5",
    "_uuid": "69f136de1a2d56dc88358689ac5345251fc98c11"
   },
   "source": [
    "## Embarked Column"
   ]
  },
  {
   "cell_type": "code",
   "execution_count": 13,
   "metadata": {
    "_cell_guid": "2f045d1e-2c93-4894-bfdb-240cd03d5ec9",
    "_uuid": "72e15106cba98c82c5e8f06909d264de24c4f26a",
    "execution": {
     "iopub.execute_input": "2021-09-04T12:14:01.277496Z",
     "iopub.status.busy": "2021-09-04T12:14:01.277037Z",
     "iopub.status.idle": "2021-09-04T12:14:01.292090Z",
     "shell.execute_reply": "2021-09-04T12:14:01.291288Z",
     "shell.execute_reply.started": "2021-09-04T12:14:01.277441Z"
    }
   },
   "outputs": [],
   "source": [
    "# Get dummy values for both train and test dataset\n",
    "# Their are 3 values in embrked: C, Q, S\n",
    "# drop_first = True: Drop C column as it will be redudant because we can identify the emarked column from S and Q.\n",
    "embark_train = pd.get_dummies(train['Embarked'],drop_first=True)\n",
    "emark_test = pd.get_dummies(test['Embarked'], drop_first=True)\n",
    "\n",
    "# Drop Emarked column\n",
    "train.drop(['Embarked'],axis=1,inplace=True)\n",
    "test.drop(['Embarked'],axis=1,inplace=True)\n",
    "\n",
    "# Concat new embark columns in respective datasets\n",
    "train = pd.concat([train,embark_train],axis=1)\n",
    "test = pd.concat([test, emark_test], axis=1)\n"
   ]
  },
  {
   "cell_type": "markdown",
   "metadata": {
    "_cell_guid": "a1ba3526-aeaa-451f-a141-7ec5adbcf42c",
    "_uuid": "0a1119fddfcc80965d5cf790b3425303d30d75d3"
   },
   "source": [
    "## Cabin Column"
   ]
  },
  {
   "cell_type": "code",
   "execution_count": 14,
   "metadata": {
    "_cell_guid": "92dbbe70-4164-4796-97b8-ccba3e47f294",
    "_uuid": "d7581a97fa2472f0c0a88363a528d78d514c13ed",
    "execution": {
     "iopub.execute_input": "2021-09-04T12:14:01.604474Z",
     "iopub.status.busy": "2021-09-04T12:14:01.604172Z",
     "iopub.status.idle": "2021-09-04T12:14:01.611892Z",
     "shell.execute_reply": "2021-09-04T12:14:01.611203Z",
     "shell.execute_reply.started": "2021-09-04T12:14:01.604413Z"
    }
   },
   "outputs": [],
   "source": [
    "# Drop Cabin attribute from both the dataset\n",
    "train.drop(\"Cabin\",axis=1,inplace=True)\n",
    "test.drop(\"Cabin\", axis=1, inplace=True)"
   ]
  },
  {
   "cell_type": "markdown",
   "metadata": {
    "_cell_guid": "fe41a500-b5ae-4455-a44e-0e5d9a9e90ed",
    "_uuid": "96c0602d1c37fd5d51eb871960980ee0687e0195"
   },
   "source": [
    "## Sex Column\n",
    "\n",
    "Sex column contains Male and Female entries. We will just make one column Male (1- for male and 0- for female) entries."
   ]
  },
  {
   "cell_type": "code",
   "execution_count": 15,
   "metadata": {
    "_cell_guid": "21f96a86-d145-4011-863b-ad3203f93f1e",
    "_uuid": "4c74a88a5cf1b97a284cbc2f47a9904c1f32912a",
    "execution": {
     "iopub.execute_input": "2021-09-04T12:14:01.931935Z",
     "iopub.status.busy": "2021-09-04T12:14:01.931663Z",
     "iopub.status.idle": "2021-09-04T12:14:01.942323Z",
     "shell.execute_reply": "2021-09-04T12:14:01.941702Z",
     "shell.execute_reply.started": "2021-09-04T12:14:01.931882Z"
    }
   },
   "outputs": [],
   "source": [
    "sex_train = pd.get_dummies(train['Sex'],drop_first=True)\n",
    "sex_test = pd.get_dummies(test['Sex'], drop_first=True)\n",
    "\n",
    "train.drop(['Sex'],axis=1,inplace=True)\n",
    "test.drop(['Sex'],axis=1,inplace=True)\n",
    "\n",
    "train = pd.concat([train,sex_train],axis=1)\n",
    "test = pd.concat([test, sex_test], axis=1)"
   ]
  },
  {
   "cell_type": "markdown",
   "metadata": {
    "_cell_guid": "10eb9057-3cbc-4c56-af81-155194d113ae",
    "_uuid": "487ed23c937d82675596ed3c995dcef0b9900216"
   },
   "source": [
    "# Fare\n",
    "only for test, since there is a missing \"Fare\" values\n"
   ]
  },
  {
   "cell_type": "code",
   "execution_count": 16,
   "metadata": {
    "_cell_guid": "1f402954-37ff-470c-8d85-a57d58ef4d2d",
    "_uuid": "b2cbb8630f82e312a0e42cb1d2bc6c4c951b43f5",
    "execution": {
     "iopub.execute_input": "2021-09-04T12:14:02.244857Z",
     "iopub.status.busy": "2021-09-04T12:14:02.244577Z",
     "iopub.status.idle": "2021-09-04T12:14:02.248962Z",
     "shell.execute_reply": "2021-09-04T12:14:02.248270Z",
     "shell.execute_reply.started": "2021-09-04T12:14:02.244813Z"
    }
   },
   "outputs": [],
   "source": [
    "test[\"Fare\"].fillna(test[\"Fare\"].median(), inplace=True)\n"
   ]
  },
  {
   "cell_type": "markdown",
   "metadata": {
    "_cell_guid": "ca9c8dee-5c18-4ecf-bf9a-fb277071363a",
    "_uuid": "29644b521326693385685d692698811cd8acf535"
   },
   "source": [
    "## Age\n",
    "We can see the rich passengers in the higher classes tend to be older. We'll use these mean age values to impute based on Pclass for Age."
   ]
  },
  {
   "cell_type": "code",
   "execution_count": 17,
   "metadata": {
    "_cell_guid": "606aa7cf-e47f-443d-9134-13a4fed9999e",
    "_uuid": "efb1caa1eeebfe10398b0c9b9783b577ffd6e53c",
    "execution": {
     "iopub.execute_input": "2021-09-04T12:14:02.573388Z",
     "iopub.status.busy": "2021-09-04T12:14:02.572996Z",
     "iopub.status.idle": "2021-09-04T12:14:02.579247Z",
     "shell.execute_reply": "2021-09-04T12:14:02.578702Z",
     "shell.execute_reply.started": "2021-09-04T12:14:02.573351Z"
    }
   },
   "outputs": [],
   "source": [
    "# Function to Impute Age\n",
    "def impute_age(cols):\n",
    "    Age = cols[0]\n",
    "    Pclass = cols[1]\n",
    "    \n",
    "    if pd.isnull(Age):\n",
    "\n",
    "        if Pclass == 1:\n",
    "            return 37\n",
    "\n",
    "        elif Pclass == 2:\n",
    "            return 29\n",
    "\n",
    "        else:\n",
    "            return 24\n",
    "\n",
    "    else:\n",
    "        return Age"
   ]
  },
  {
   "cell_type": "code",
   "execution_count": 18,
   "metadata": {
    "_cell_guid": "926e4eb8-9556-4730-b88f-b1fd542a6e1a",
    "_uuid": "8b4e583669fb301aa71580ed469d02e3bbdcbc44",
    "execution": {
     "iopub.execute_input": "2021-09-04T12:14:02.736167Z",
     "iopub.status.busy": "2021-09-04T12:14:02.735738Z",
     "iopub.status.idle": "2021-09-04T12:14:02.780832Z",
     "shell.execute_reply": "2021-09-04T12:14:02.780156Z",
     "shell.execute_reply.started": "2021-09-04T12:14:02.736114Z"
    }
   },
   "outputs": [],
   "source": [
    "# Apply the above function to our training and testing datasets\n",
    "train['Age'] = train[['Age','Pclass']].apply(impute_age,axis=1)\n",
    "test['Age'] = test[['Age','Pclass']].apply(impute_age,axis=1)\n",
    "\n",
    "train['Age'] = train['Age'].astype(int)\n",
    "test['Age']    = test['Age'].astype(int)\n"
   ]
  },
  {
   "cell_type": "code",
   "execution_count": 19,
   "metadata": {
    "_cell_guid": "6a623365-d59b-4e07-a3dc-0ebd406045b3",
    "_uuid": "8c4b0d3110cb6c3ec38b0f6faad143fd07928066",
    "execution": {
     "iopub.execute_input": "2021-09-04T12:14:02.890051Z",
     "iopub.status.busy": "2021-09-04T12:14:02.889723Z",
     "iopub.status.idle": "2021-09-04T12:14:02.902565Z",
     "shell.execute_reply": "2021-09-04T12:14:02.901809Z",
     "shell.execute_reply.started": "2021-09-04T12:14:02.889993Z"
    }
   },
   "outputs": [
    {
     "data": {
      "text/html": [
       "<div>\n",
       "<style scoped>\n",
       "    .dataframe tbody tr th:only-of-type {\n",
       "        vertical-align: middle;\n",
       "    }\n",
       "\n",
       "    .dataframe tbody tr th {\n",
       "        vertical-align: top;\n",
       "    }\n",
       "\n",
       "    .dataframe thead th {\n",
       "        text-align: right;\n",
       "    }\n",
       "</style>\n",
       "<table border=\"1\" class=\"dataframe\">\n",
       "  <thead>\n",
       "    <tr style=\"text-align: right;\">\n",
       "      <th></th>\n",
       "      <th>Survived</th>\n",
       "      <th>Pclass</th>\n",
       "      <th>Age</th>\n",
       "      <th>SibSp</th>\n",
       "      <th>Parch</th>\n",
       "      <th>Fare</th>\n",
       "      <th>Q</th>\n",
       "      <th>S</th>\n",
       "      <th>male</th>\n",
       "    </tr>\n",
       "  </thead>\n",
       "  <tbody>\n",
       "    <tr>\n",
       "      <th>0</th>\n",
       "      <td>0</td>\n",
       "      <td>3</td>\n",
       "      <td>22</td>\n",
       "      <td>1</td>\n",
       "      <td>0</td>\n",
       "      <td>7.2500</td>\n",
       "      <td>0</td>\n",
       "      <td>1</td>\n",
       "      <td>1</td>\n",
       "    </tr>\n",
       "    <tr>\n",
       "      <th>1</th>\n",
       "      <td>1</td>\n",
       "      <td>1</td>\n",
       "      <td>38</td>\n",
       "      <td>1</td>\n",
       "      <td>0</td>\n",
       "      <td>71.2833</td>\n",
       "      <td>0</td>\n",
       "      <td>0</td>\n",
       "      <td>0</td>\n",
       "    </tr>\n",
       "    <tr>\n",
       "      <th>2</th>\n",
       "      <td>1</td>\n",
       "      <td>3</td>\n",
       "      <td>26</td>\n",
       "      <td>0</td>\n",
       "      <td>0</td>\n",
       "      <td>7.9250</td>\n",
       "      <td>0</td>\n",
       "      <td>1</td>\n",
       "      <td>0</td>\n",
       "    </tr>\n",
       "    <tr>\n",
       "      <th>3</th>\n",
       "      <td>1</td>\n",
       "      <td>1</td>\n",
       "      <td>35</td>\n",
       "      <td>1</td>\n",
       "      <td>0</td>\n",
       "      <td>53.1000</td>\n",
       "      <td>0</td>\n",
       "      <td>1</td>\n",
       "      <td>0</td>\n",
       "    </tr>\n",
       "    <tr>\n",
       "      <th>4</th>\n",
       "      <td>0</td>\n",
       "      <td>3</td>\n",
       "      <td>35</td>\n",
       "      <td>0</td>\n",
       "      <td>0</td>\n",
       "      <td>8.0500</td>\n",
       "      <td>0</td>\n",
       "      <td>1</td>\n",
       "      <td>1</td>\n",
       "    </tr>\n",
       "  </tbody>\n",
       "</table>\n",
       "</div>"
      ],
      "text/plain": [
       "   Survived  Pclass  Age  SibSp  Parch     Fare  Q  S  male\n",
       "0         0       3   22      1      0   7.2500  0  1     1\n",
       "1         1       1   38      1      0  71.2833  0  0     0\n",
       "2         1       3   26      0      0   7.9250  0  1     0\n",
       "3         1       1   35      1      0  53.1000  0  1     0\n",
       "4         0       3   35      0      0   8.0500  0  1     1"
      ]
     },
     "execution_count": 19,
     "metadata": {},
     "output_type": "execute_result"
    }
   ],
   "source": [
    "train.head()"
   ]
  },
  {
   "cell_type": "code",
   "execution_count": 20,
   "metadata": {
    "_cell_guid": "9a4991b3-bd0e-458a-b7e2-b3e870d23703",
    "_uuid": "13bc8ed007fd4493a7c4a633783a14aaa9ce87e8",
    "execution": {
     "iopub.execute_input": "2021-09-04T12:14:03.060912Z",
     "iopub.status.busy": "2021-09-04T12:14:03.060369Z",
     "iopub.status.idle": "2021-09-04T12:14:03.073979Z",
     "shell.execute_reply": "2021-09-04T12:14:03.073178Z",
     "shell.execute_reply.started": "2021-09-04T12:14:03.060863Z"
    }
   },
   "outputs": [
    {
     "data": {
      "text/html": [
       "<div>\n",
       "<style scoped>\n",
       "    .dataframe tbody tr th:only-of-type {\n",
       "        vertical-align: middle;\n",
       "    }\n",
       "\n",
       "    .dataframe tbody tr th {\n",
       "        vertical-align: top;\n",
       "    }\n",
       "\n",
       "    .dataframe thead th {\n",
       "        text-align: right;\n",
       "    }\n",
       "</style>\n",
       "<table border=\"1\" class=\"dataframe\">\n",
       "  <thead>\n",
       "    <tr style=\"text-align: right;\">\n",
       "      <th></th>\n",
       "      <th>PassengerId</th>\n",
       "      <th>Pclass</th>\n",
       "      <th>Age</th>\n",
       "      <th>SibSp</th>\n",
       "      <th>Parch</th>\n",
       "      <th>Fare</th>\n",
       "      <th>Q</th>\n",
       "      <th>S</th>\n",
       "      <th>male</th>\n",
       "    </tr>\n",
       "  </thead>\n",
       "  <tbody>\n",
       "    <tr>\n",
       "      <th>0</th>\n",
       "      <td>892</td>\n",
       "      <td>3</td>\n",
       "      <td>34</td>\n",
       "      <td>0</td>\n",
       "      <td>0</td>\n",
       "      <td>7.8292</td>\n",
       "      <td>1</td>\n",
       "      <td>0</td>\n",
       "      <td>1</td>\n",
       "    </tr>\n",
       "    <tr>\n",
       "      <th>1</th>\n",
       "      <td>893</td>\n",
       "      <td>3</td>\n",
       "      <td>47</td>\n",
       "      <td>1</td>\n",
       "      <td>0</td>\n",
       "      <td>7.0000</td>\n",
       "      <td>0</td>\n",
       "      <td>1</td>\n",
       "      <td>0</td>\n",
       "    </tr>\n",
       "    <tr>\n",
       "      <th>2</th>\n",
       "      <td>894</td>\n",
       "      <td>2</td>\n",
       "      <td>62</td>\n",
       "      <td>0</td>\n",
       "      <td>0</td>\n",
       "      <td>9.6875</td>\n",
       "      <td>1</td>\n",
       "      <td>0</td>\n",
       "      <td>1</td>\n",
       "    </tr>\n",
       "    <tr>\n",
       "      <th>3</th>\n",
       "      <td>895</td>\n",
       "      <td>3</td>\n",
       "      <td>27</td>\n",
       "      <td>0</td>\n",
       "      <td>0</td>\n",
       "      <td>8.6625</td>\n",
       "      <td>0</td>\n",
       "      <td>1</td>\n",
       "      <td>1</td>\n",
       "    </tr>\n",
       "    <tr>\n",
       "      <th>4</th>\n",
       "      <td>896</td>\n",
       "      <td>3</td>\n",
       "      <td>22</td>\n",
       "      <td>1</td>\n",
       "      <td>1</td>\n",
       "      <td>12.2875</td>\n",
       "      <td>0</td>\n",
       "      <td>1</td>\n",
       "      <td>0</td>\n",
       "    </tr>\n",
       "  </tbody>\n",
       "</table>\n",
       "</div>"
      ],
      "text/plain": [
       "   PassengerId  Pclass  Age  SibSp  Parch     Fare  Q  S  male\n",
       "0          892       3   34      0      0   7.8292  1  0     1\n",
       "1          893       3   47      1      0   7.0000  0  1     0\n",
       "2          894       2   62      0      0   9.6875  1  0     1\n",
       "3          895       3   27      0      0   8.6625  0  1     1\n",
       "4          896       3   22      1      1  12.2875  0  1     0"
      ]
     },
     "execution_count": 20,
     "metadata": {},
     "output_type": "execute_result"
    }
   ],
   "source": [
    "test.head()"
   ]
  },
  {
   "cell_type": "markdown",
   "metadata": {
    "_cell_guid": "e6799056-b5ce-4731-91db-3b7e393455b1",
    "_uuid": "ec5769623a84c6f6e70c6458a21f409c66f197c0"
   },
   "source": [
    "### **Now our Data is cleaned and we are ready to use a Model**"
   ]
  },
  {
   "cell_type": "markdown",
   "metadata": {
    "_cell_guid": "42bbebce-136d-48e3-a5cd-d078b18d8bc4",
    "_uuid": "c8a668a167ca2f07aec57be218a84f37c0e240d2"
   },
   "source": [
    "# **Building a Model**"
   ]
  },
  {
   "cell_type": "markdown",
   "metadata": {
    "_cell_guid": "7285c05f-9110-4fff-aabf-2d5ddd66b2ce",
    "_uuid": "2d7494a6a0e8a03840f65e9a719af3026c06b528"
   },
   "source": [
    "## Train-Test Split"
   ]
  },
  {
   "cell_type": "code",
   "execution_count": 21,
   "metadata": {
    "_cell_guid": "9e05e067-091f-4440-b619-8f2b70262851",
    "_uuid": "12d18eb2394f52517e0d53d2daabf3920bb54aba",
    "execution": {
     "iopub.execute_input": "2021-09-04T12:14:03.689809Z",
     "iopub.status.busy": "2021-09-04T12:14:03.689359Z",
     "iopub.status.idle": "2021-09-04T12:14:03.697807Z",
     "shell.execute_reply": "2021-09-04T12:14:03.697227Z",
     "shell.execute_reply.started": "2021-09-04T12:14:03.689765Z"
    }
   },
   "outputs": [],
   "source": [
    "X_train = train.drop('Survived', axis=1)\n",
    "y_train = train['Survived']\n",
    "X_test = test.drop('PassengerId', axis=1)"
   ]
  },
  {
   "cell_type": "markdown",
   "metadata": {
    "_cell_guid": "2b6cda8b-280f-45e3-989c-d6845b371794",
    "_uuid": "0703d5817e6b8e6b0fffbf1e6f08e33401fa0306"
   },
   "source": [
    "# **Logistic Regression**"
   ]
  },
  {
   "cell_type": "code",
   "execution_count": 22,
   "metadata": {
    "_cell_guid": "f23018d3-ccc9-4843-ba49-058542d91ff4",
    "_uuid": "ac65e12942c36455fa5079d576b70c355ab3d85b",
    "execution": {
     "iopub.execute_input": "2021-09-04T12:14:03.999228Z",
     "iopub.status.busy": "2021-09-04T12:14:03.998782Z",
     "iopub.status.idle": "2021-09-04T12:14:04.229892Z",
     "shell.execute_reply": "2021-09-04T12:14:04.229331Z",
     "shell.execute_reply.started": "2021-09-04T12:14:03.999188Z"
    }
   },
   "outputs": [
    {
     "data": {
      "text/plain": [
       "0.80246913580246915"
      ]
     },
     "execution_count": 22,
     "metadata": {},
     "output_type": "execute_result"
    }
   ],
   "source": [
    "from sklearn.linear_model import LogisticRegression\n",
    "\n",
    "log = LogisticRegression()\n",
    "\n",
    "log.fit(X_train, y_train)\n",
    "\n",
    "Prediction = log.predict(X_test)\n",
    "\n",
    "log.score(X_train, y_train)"
   ]
  },
  {
   "cell_type": "code",
   "execution_count": 26,
   "metadata": {
    "execution": {
     "iopub.execute_input": "2021-09-04T12:14:53.661873Z",
     "iopub.status.busy": "2021-09-04T12:14:53.661468Z",
     "iopub.status.idle": "2021-09-04T12:14:53.677640Z",
     "shell.execute_reply": "2021-09-04T12:14:53.677009Z",
     "shell.execute_reply.started": "2021-09-04T12:14:53.661833Z"
    }
   },
   "outputs": [
    {
     "name": "stdout",
     "output_type": "stream",
     "text": [
      "0.798882681564\n",
      "             precision    recall  f1-score   support\n",
      "\n",
      "          0       0.82      0.86      0.84       110\n",
      "          1       0.76      0.70      0.73        69\n",
      "\n",
      "avg / total       0.80      0.80      0.80       179\n",
      "\n"
     ]
    }
   ],
   "source": [
    "from sklearn.model_selection import train_test_split\n",
    "from sklearn.metrics import accuracy_score\n",
    "\n",
    "\n",
    "X = train.drop('Survived', axis=1)\n",
    "y = train['Survived']\n",
    "\n",
    "train_X, val_X, train_y, val_y = train_test_split(\n",
    "    X, y, test_size=0.20,random_state=0)\n",
    "\n",
    "lr = LogisticRegression()\n",
    "lr.fit(train_X, train_y)\n",
    "predictions = lr.predict(val_X)\n",
    "accuracy = accuracy_score(val_y, predictions)\n",
    "print(accuracy)\n",
    "from sklearn.metrics import classification_report\n",
    "print(classification_report(val_y,predictions))"
   ]
  },
  {
   "cell_type": "code",
   "execution_count": 28,
   "metadata": {
    "execution": {
     "iopub.execute_input": "2021-09-04T12:15:06.309877Z",
     "iopub.status.busy": "2021-09-04T12:15:06.309462Z",
     "iopub.status.idle": "2021-09-04T12:15:06.315357Z",
     "shell.execute_reply": "2021-09-04T12:15:06.314792Z",
     "shell.execute_reply.started": "2021-09-04T12:15:06.309837Z"
    }
   },
   "outputs": [
    {
     "name": "stdout",
     "output_type": "stream",
     "text": [
      "[[95 15]\n",
      " [21 48]]\n"
     ]
    }
   ],
   "source": [
    "from sklearn.metrics import confusion_matrix\n",
    "\n",
    "cm = confusion_matrix(val_y,predictions)\n",
    "print(cm)"
   ]
  },
  {
   "cell_type": "code",
   "execution_count": null,
   "metadata": {},
   "outputs": [],
   "source": []
  },
  {
   "cell_type": "code",
   "execution_count": null,
   "metadata": {
    "_cell_guid": "9d96e0c0-3300-4163-a8e6-e2db281bbcbd",
    "_uuid": "6465b3606e736eb616685800db566d2440724379",
    "execution": {
     "iopub.execute_input": "2021-09-03T18:13:13.006007Z",
     "iopub.status.busy": "2021-09-03T18:13:13.005468Z",
     "iopub.status.idle": "2021-09-03T18:13:13.021343Z",
     "shell.execute_reply": "2021-09-03T18:13:13.020549Z",
     "shell.execute_reply.started": "2021-09-03T18:13:13.005927Z"
    }
   },
   "outputs": [],
   "source": [
    "from sklearn.linear_model import LinearRegression\n",
    "lm = LinearRegression()\n",
    "lm.fit(X_train,y_train)\n",
    "Prediction = lm.predict(X_test)\n",
    "\n",
    "lm.score(X_train,y_train)"
   ]
  },
  {
   "cell_type": "code",
   "execution_count": null,
   "metadata": {},
   "outputs": [],
   "source": []
  },
  {
   "cell_type": "code",
   "execution_count": null,
   "metadata": {
    "_cell_guid": "9d96e0c0-3300-4163-a8e6-e2db281bbcbd",
    "_uuid": "6465b3606e736eb616685800db566d2440724379",
    "execution": {
     "iopub.execute_input": "2021-09-03T18:13:13.006007Z",
     "iopub.status.busy": "2021-09-03T18:13:13.005468Z",
     "iopub.status.idle": "2021-09-03T18:13:13.021343Z",
     "shell.execute_reply": "2021-09-03T18:13:13.020549Z",
     "shell.execute_reply.started": "2021-09-03T18:13:13.005927Z"
    }
   },
   "outputs": [],
   "source": [
    "from sklearn.linear_model import LinearRegression\n",
    "lm = LinearRegression()\n",
    "lm.fit(X_train,y_train)\n",
    "Prediction = lm.predict(X_test)\n",
    "\n",
    "lm.score(X_train,y_train)"
   ]
  },
  {
   "cell_type": "code",
   "execution_count": null,
   "metadata": {},
   "outputs": [],
   "source": []
  },
  {
   "cell_type": "markdown",
   "metadata": {
    "_cell_guid": "30b99416-6872-44bc-950b-9c5bc74dab12",
    "_uuid": "1050f1c46b88fc9b90b742f78d8648d3fa7639f5"
   },
   "source": [
    "# **Support Vector Machines**\n"
   ]
  },
  {
   "cell_type": "code",
   "execution_count": null,
   "metadata": {
    "_cell_guid": "b137f674-878b-4581-b8ed-7a1fbfeabcab",
    "_uuid": "232c5a25553541be0b27c1cd6034ca26a4e9c7ab",
    "execution": {
     "iopub.execute_input": "2021-09-03T18:13:13.041355Z",
     "iopub.status.busy": "2021-09-03T18:13:13.040727Z",
     "iopub.status.idle": "2021-09-03T18:13:13.127645Z",
     "shell.execute_reply": "2021-09-03T18:13:13.126962Z",
     "shell.execute_reply.started": "2021-09-03T18:13:13.041301Z"
    }
   },
   "outputs": [],
   "source": [
    "from sklearn.svm import SVC\n",
    "svc = SVC()\n",
    "\n",
    "svc.fit(X_train, y_train)\n",
    "\n",
    "Prediction_SVM = svc.predict(X_test)\n",
    "\n",
    "svc.score(X_train, y_train)"
   ]
  },
  {
   "cell_type": "markdown",
   "metadata": {
    "_cell_guid": "f3abc305-f38c-4479-8ea4-ef41f18d32fd",
    "_uuid": "264a8dbc68724f9ca6adf707f0d03267e5427d94"
   },
   "source": []
  },
  {
   "cell_type": "markdown",
   "metadata": {
    "_cell_guid": "88936d2f-7b11-41dd-8ef3-e1c59c6da8c0",
    "_uuid": "18fef4b2f7470656709e6b38c04e0c6b0f284bdf"
   },
   "source": [
    "# **Gradient Boosting Classifier**"
   ]
  },
  {
   "cell_type": "code",
   "execution_count": null,
   "metadata": {
    "_cell_guid": "9328f963-ba49-42c7-b799-82f8de4abe81",
    "_uuid": "d328a2097650e025d870c1fd4963e02a42885c1d",
    "execution": {
     "iopub.execute_input": "2021-09-03T18:13:13.162348Z",
     "iopub.status.busy": "2021-09-03T18:13:13.1618Z",
     "iopub.status.idle": "2021-09-03T18:13:13.264831Z",
     "shell.execute_reply": "2021-09-03T18:13:13.263974Z",
     "shell.execute_reply.started": "2021-09-03T18:13:13.162286Z"
    }
   },
   "outputs": [],
   "source": [
    "from sklearn.ensemble import GradientBoostingClassifier\n",
    "gradient_boost = GradientBoostingClassifier(n_estimators=100)\n",
    "gradient_boost.fit(X_train, y_train)\n",
    "\n",
    "Prediction_GBC = gradient_boost.predict(X_test)\n",
    "\n",
    "gradient_boost.score(X_train, y_train)"
   ]
  },
  {
   "cell_type": "markdown",
   "metadata": {
    "_cell_guid": "1652ca2e-584b-4dbe-b9f5-05e4dc14c66c",
    "_uuid": "d2a7dd449cee2af20ce98539af2061331bbf9c87"
   },
   "source": []
  },
  {
   "cell_type": "markdown",
   "metadata": {
    "_cell_guid": "80e232d0-10a4-4b69-97f6-276f0d81359e",
    "_uuid": "e99010f31af721340f9bc00868aeb6e77abc5630"
   },
   "source": [
    "# **Random Forest**\n",
    "### Best for the given cleaned Data"
   ]
  },
  {
   "cell_type": "code",
   "execution_count": null,
   "metadata": {
    "_cell_guid": "0d2c4e06-2add-4e08-9956-3a73f2a725ec",
    "_uuid": "069eb73bd34f4f85133c714058dfd27547c1b78a",
    "execution": {
     "iopub.execute_input": "2021-09-03T18:13:13.26645Z",
     "iopub.status.busy": "2021-09-03T18:13:13.266037Z",
     "iopub.status.idle": "2021-09-03T18:13:13.491563Z",
     "shell.execute_reply": "2021-09-03T18:13:13.490841Z",
     "shell.execute_reply.started": "2021-09-03T18:13:13.266388Z"
    }
   },
   "outputs": [],
   "source": [
    "from sklearn.ensemble import RandomForestClassifier\n",
    "random_forest = RandomForestClassifier(n_estimators=100)\n",
    "random_forest.fit(X_train, y_train)\n",
    "RFC_prediction = random_forest.predict(X_test)\n",
    "random_forest.score(X_train, y_train)"
   ]
  },
  {
   "cell_type": "markdown",
   "metadata": {
    "_cell_guid": "1aaec5b2-9740-4573-b665-bef8750ce397",
    "_uuid": "03d2afd45de69a56c9220edc8509744ed8a24831"
   },
   "source": []
  },
  {
   "cell_type": "code",
   "execution_count": null,
   "metadata": {},
   "outputs": [],
   "source": []
  }
 ],
 "metadata": {
  "kernelspec": {
   "display_name": "Python 3 (ipykernel)",
   "language": "python",
   "name": "python3"
  },
  "language_info": {
   "codemirror_mode": {
    "name": "ipython",
    "version": 3
   },
   "file_extension": ".py",
   "mimetype": "text/x-python",
   "name": "python",
   "nbconvert_exporter": "python",
   "pygments_lexer": "ipython3",
   "version": "3.9.7"
  }
 },
 "nbformat": 4,
 "nbformat_minor": 4
}
